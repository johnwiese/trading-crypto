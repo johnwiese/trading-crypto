{
  "nbformat": 4,
  "nbformat_minor": 0,
  "metadata": {
    "colab": {
      "name": "Crypto Data Notebook.ipynb",
      "provenance": [],
      "include_colab_link": true
    },
    "kernelspec": {
      "name": "python3",
      "display_name": "Python 3"
    }
  },
  "cells": [
    {
      "cell_type": "markdown",
      "metadata": {
        "id": "view-in-github",
        "colab_type": "text"
      },
      "source": [
        "<a href=\"https://colab.research.google.com/github/johnwiese/trading-crypto/blob/master/Crypto_Data_Notebook.ipynb\" target=\"_parent\"><img src=\"https://colab.research.google.com/assets/colab-badge.svg\" alt=\"Open In Colab\"/></a>"
      ]
    },
    {
      "cell_type": "markdown",
      "metadata": {
        "id": "vK0oJajk7W1T",
        "colab_type": "text"
      },
      "source": [
        "###Tools for Bitcoin data and simple fractal moving averages for entries and exits"
      ]
    },
    {
      "cell_type": "markdown",
      "metadata": {
        "id": "-O1NTiPU6EZA",
        "colab_type": "text"
      },
      "source": [
        "Convert to tsv use  DataFrame.to_tsv() in pandas"
      ]
    },
    {
      "cell_type": "code",
      "metadata": {
        "id": "o7z0m4Qy8IIu",
        "colab_type": "code",
        "outputId": "0fe5a52a-8ce3-4494-e9b5-c6c7bbc1e2d4",
        "colab": {
          "base_uri": "https://localhost:8080/",
          "height": 139
        }
      },
      "source": [
        "import numpy as np       # Data formating\n",
        "import pandas as pd\n",
        "import matplotlib.pyplot as plt\n",
        "import random\n",
        "import os\n",
        "import os.path\n",
        "from os import path\n",
        "import datetime\n",
        "from datetime import date\n",
        "import itertools\n",
        "from pandas.io.json import json_normalize\n",
        "!pip install coinbasepro\n",
        "\n"
      ],
      "execution_count": 58,
      "outputs": [
        {
          "output_type": "stream",
          "text": [
            "Requirement already satisfied: coinbasepro in /usr/local/lib/python3.6/dist-packages (0.1.1)\n",
            "Requirement already satisfied: requests>=2.20.0 in /usr/local/lib/python3.6/dist-packages (from coinbasepro) (2.21.0)\n",
            "Requirement already satisfied: chardet<3.1.0,>=3.0.2 in /usr/local/lib/python3.6/dist-packages (from requests>=2.20.0->coinbasepro) (3.0.4)\n",
            "Requirement already satisfied: urllib3<1.25,>=1.21.1 in /usr/local/lib/python3.6/dist-packages (from requests>=2.20.0->coinbasepro) (1.24.3)\n",
            "Requirement already satisfied: certifi>=2017.4.17 in /usr/local/lib/python3.6/dist-packages (from requests>=2.20.0->coinbasepro) (2019.9.11)\n",
            "Requirement already satisfied: idna<2.9,>=2.5 in /usr/local/lib/python3.6/dist-packages (from requests>=2.20.0->coinbasepro) (2.8)\n"
          ],
          "name": "stdout"
        }
      ]
    },
    {
      "cell_type": "markdown",
      "metadata": {
        "id": "LcflV0RVwA7b",
        "colab_type": "text"
      },
      "source": [
        "# Tools for getting data for Bitcoin\n",
        "\n",
        "\n",
        "1.   Load historic data files\n",
        "2.   Get live hourly data from Coinbase Pro API\n",
        "3.   Convert to JSON https://datatofish.com/export-pandas-dataframe-json/\n",
        "\n"
      ]
    },
    {
      "cell_type": "code",
      "metadata": {
        "id": "Uu1jt4hNUygQ",
        "colab_type": "code",
        "outputId": "140712c9-f255-4767-86c4-78a924b44fcb",
        "colab": {
          "base_uri": "https://localhost:8080/",
          "height": 425
        }
      },
      "source": [
        "from google.colab import drive\n",
        "drive.mount('/content/drive')\n",
        "\n",
        "!pwd\n",
        "!ls -al\n",
        "\n",
        "%cd \"./drive/My Drive/ML/assets/\"\n",
        "!ls -al\n",
        "   \n",
        "\n"
      ],
      "execution_count": 4,
      "outputs": [
        {
          "output_type": "stream",
          "text": [
            "Drive already mounted at /content/drive; to attempt to forcibly remount, call drive.mount(\"/content/drive\", force_remount=True).\n",
            "/content/drive/My Drive/ML/assets\n",
            "total 8348\n",
            "-rw------- 1 root root     151 Oct 10 00:25  Bitfinex_BTCUSD_d.csv.gsheet\n",
            "-rw------- 1 root root 1424089 Oct 10 01:55 'Coinbase_BTCUSD_1h (1).csv'\n",
            "-rw------- 1 root root 1424089 Oct 10 01:56 'Coinbase_BTCUSD_1h (2).csv'\n",
            "-rw------- 1 root root 1424089 Oct 10 01:59 'Coinbase_BTCUSD_1h (3).csv'\n",
            "-rw------- 1 root root 1424089 Oct 10 02:02 'Coinbase_BTCUSD_1h (4).csv'\n",
            "-rw------- 1 root root 1424089 Oct 10 02:03 'Coinbase_BTCUSD_1h (5).csv'\n",
            "-rw------- 1 root root 1424089 Oct 10 01:53  Coinbase_BTCUSD_1h.csv\n",
            "-rw------- 1 root root     151 Oct 10 00:25  Coinbase_BTCUSD_1h.csv.gsheet\n",
            "-rw------- 1 root root     151 Oct 10 17:32  Coinbase_BTCUSD_d.csv.gsheet\n",
            "[Errno 2] No such file or directory: './drive/My Drive/ML/assets/'\n",
            "/content/drive/My Drive/ML/assets\n",
            "total 8348\n",
            "-rw------- 1 root root     151 Oct 10 00:25  Bitfinex_BTCUSD_d.csv.gsheet\n",
            "-rw------- 1 root root 1424089 Oct 10 01:55 'Coinbase_BTCUSD_1h (1).csv'\n",
            "-rw------- 1 root root 1424089 Oct 10 01:56 'Coinbase_BTCUSD_1h (2).csv'\n",
            "-rw------- 1 root root 1424089 Oct 10 01:59 'Coinbase_BTCUSD_1h (3).csv'\n",
            "-rw------- 1 root root 1424089 Oct 10 02:02 'Coinbase_BTCUSD_1h (4).csv'\n",
            "-rw------- 1 root root 1424089 Oct 10 02:03 'Coinbase_BTCUSD_1h (5).csv'\n",
            "-rw------- 1 root root 1424089 Oct 10 01:53  Coinbase_BTCUSD_1h.csv\n",
            "-rw------- 1 root root     151 Oct 10 00:25  Coinbase_BTCUSD_1h.csv.gsheet\n",
            "-rw------- 1 root root     151 Oct 10 17:32  Coinbase_BTCUSD_d.csv.gsheet\n"
          ],
          "name": "stdout"
        }
      ]
    },
    {
      "cell_type": "code",
      "metadata": {
        "id": "xVcBh5Cde_B4",
        "colab_type": "code",
        "colab": {}
      },
      "source": [
        "!pip install --upgrade --quiet gspread"
      ],
      "execution_count": 0,
      "outputs": []
    },
    {
      "cell_type": "code",
      "metadata": {
        "id": "vQUh8Pr0fIvu",
        "colab_type": "code",
        "colab": {}
      },
      "source": [
        "from google.colab import auth\n",
        "auth.authenticate_user()\n",
        "\n",
        "import gspread\n",
        "from oauth2client.client import GoogleCredentials\n",
        "\n",
        "gc = gspread.authorize(GoogleCredentials.get_application_default())"
      ],
      "execution_count": 0,
      "outputs": []
    },
    {
      "cell_type": "markdown",
      "metadata": {
        "id": "YUwEb8qctGYY",
        "colab_type": "text"
      },
      "source": [
        "**Get historic data from two sources**\n",
        "  bitfinex \n",
        "    Has only day data but a lot starting back in 2015-02-09\n",
        "  coinbase historic\n",
        "    Has hourly data\n",
        "Get real live hourly data from Coinbase using the Coinbase Pro API\n",
        "  Read coinbase from the last point of last of the historic data\n",
        "\n",
        "**Plan for charts **\n",
        "  Load the bitinex daily data\n",
        "  From the first hourly historic data from coinbase merge both historic data from bitfinx and coinbase historic data\n",
        "  Note: Convert Coinbase to day data bars. One bar starts the 24 day bare from GTC midnight to the next GTC zero hour\n",
        "\n",
        "Once the historic data is merged into one for display then start getting new hourly data from Coinbase every hour and then convert to daily bars\n"
      ]
    },
    {
      "cell_type": "code",
      "metadata": {
        "id": "uxqMvap9fsE5",
        "colab_type": "code",
        "colab": {}
      },
      "source": [
        "# Get historic data from bitfinex and coinbase\n",
        "# bitfinex has a lot of day data\n",
        "\n",
        "bitfinex_btcusd_file = 'Bitfinex_BTCUSD_d.csv'\n",
        "coinbase_btcusd_file = 'Coinbase_BTCUSD_d.cvs'  # 'Coinbase_BTCUSD_1h.csv'\n",
        "base_path = '/content/drive/My Drive/ML/assets'\n",
        "\n",
        "bitfinex_btcusd_path = os.path.join(base_path,bitfinex_btcusd_file)"
      ],
      "execution_count": 0,
      "outputs": []
    },
    {
      "cell_type": "code",
      "metadata": {
        "id": "bIo8CV3tfQ9q",
        "colab_type": "code",
        "colab": {}
      },
      "source": [
        "# get dataframes\n",
        "# get bitfinex\n",
        "worksheet_bitfinex = gc.open(bitfinex_btcusd_file).sheet1\n",
        "# get_all_values gives a list of rows.\n",
        "rows_bitfinex = worksheet_bitfinex.get_all_values()\n",
        "df_bitfinex = pd.DataFrame.from_records(rows_bitfinex)\n",
        "\n",
        "\n"
      ],
      "execution_count": 0,
      "outputs": []
    },
    {
      "cell_type": "code",
      "metadata": {
        "id": "f4BVvOSs3U5E",
        "colab_type": "code",
        "colab": {
          "base_uri": "https://localhost:8080/",
          "height": 221
        },
        "outputId": "8498637b-9d81-4b2f-89ba-24e1f06ee799"
      },
      "source": [
        "!pwd\n",
        "!ls -al\n",
        "print(os.path.exists(\"Coinbase_BTCUSD_d.csv.gsheet\"))\n",
        "# get coinbase\n",
        "worksheet_coinbase = gc.open(\"Coinbase_BTCUSD_d.csv\").sheet1\n",
        "# get_all_values gives a list of rows.\n",
        "rows_coinbase = worksheet_coinbase.get_all_values()\n",
        "df_coinbase = pd.DataFrame.from_records(rows_coinbase)"
      ],
      "execution_count": 9,
      "outputs": [
        {
          "output_type": "stream",
          "text": [
            "/content/drive/My Drive/ML/assets\n",
            "total 8348\n",
            "-rw------- 1 root root     151 Oct 10 00:25  Bitfinex_BTCUSD_d.csv.gsheet\n",
            "-rw------- 1 root root 1424089 Oct 10 01:55 'Coinbase_BTCUSD_1h (1).csv'\n",
            "-rw------- 1 root root 1424089 Oct 10 01:56 'Coinbase_BTCUSD_1h (2).csv'\n",
            "-rw------- 1 root root 1424089 Oct 10 01:59 'Coinbase_BTCUSD_1h (3).csv'\n",
            "-rw------- 1 root root 1424089 Oct 10 02:02 'Coinbase_BTCUSD_1h (4).csv'\n",
            "-rw------- 1 root root 1424089 Oct 10 02:03 'Coinbase_BTCUSD_1h (5).csv'\n",
            "-rw------- 1 root root 1424089 Oct 10 01:53  Coinbase_BTCUSD_1h.csv\n",
            "-rw------- 1 root root     151 Oct 10 00:25  Coinbase_BTCUSD_1h.csv.gsheet\n",
            "-rw------- 1 root root     151 Oct 10 17:32  Coinbase_BTCUSD_d.csv.gsheet\n",
            "True\n"
          ],
          "name": "stdout"
        }
      ]
    },
    {
      "cell_type": "code",
      "metadata": {
        "id": "qVOm5Qvqi_QZ",
        "colab_type": "code",
        "colab": {
          "base_uri": "https://localhost:8080/",
          "height": 1000
        },
        "outputId": "96b1e75d-967c-4853-825c-587eeb030948"
      },
      "source": [
        "print(df_bitfinex)"
      ],
      "execution_count": 10,
      "outputs": [
        {
          "output_type": "stream",
          "text": [
            "               0       1         2  ...         5           6            7\n",
            "0           Date  Symbol      Open  ...     Close  Volume BTC   Volume USD\n",
            "1     2019-10-08  BTCUSD      8227  ...   8205.14     1584.55  13097499.82\n",
            "2     2019-10-07  BTCUSD    7882.9  ...      8227     8149.21  66182672.83\n",
            "3     2019-10-06  BTCUSD    8162.5  ...    7882.9     5857.54  46641948.11\n",
            "4     2019-10-05  BTCUSD      8170  ...    8162.5     3327.26  27021471.49\n",
            "5     2019-10-04  BTCUSD      8258  ...      8170     3051.67   24946287.9\n",
            "6     2019-10-03  BTCUSD   8414.88  ...      8258     3716.19  30623737.96\n",
            "7     2019-10-02  BTCUSD    8334.9  ...   8414.88     3448.52  28570950.97\n",
            "8     2019-10-01  BTCUSD   8331.14  ...    8334.9      5835.9  49049132.41\n",
            "9     2019-09-30  BTCUSD      8090  ...   8331.14    10919.75  87839295.32\n",
            "10    2019-09-29  BTCUSD    8238.2  ...      8090     6143.56  49454030.63\n",
            "11    2019-09-28  BTCUSD    8213.4  ...    8238.2     5447.13  44602497.95\n",
            "12    2019-09-27  BTCUSD    8105.9  ...    8213.4     7469.15  60208646.12\n",
            "13    2019-09-26  BTCUSD    8475.3  ...    8105.9    15408.93  125180468.7\n",
            "14    2019-09-25  BTCUSD    8538.7  ...    8475.3    12765.89  108207657.4\n",
            "15    2019-09-24  BTCUSD    9702.6  ...    8538.7     34867.7    307985234\n",
            "16    2019-09-23  BTCUSD     10055  ...    9702.6     5486.04  53969510.57\n",
            "17    2019-09-22  BTCUSD     10013  ...     10055     2752.45  27523592.55\n",
            "18    2019-09-21  BTCUSD     10197  ...     10013     2979.88  29943816.81\n",
            "19    2019-09-20  BTCUSD     10301  ...     10197      2513.7   25660191.4\n",
            "20    2019-09-19  BTCUSD     10185  ...     10301     9766.07  97965321.95\n",
            "21    2019-09-18  BTCUSD  10214.86  ...     10185     3339.09  34080717.87\n",
            "22    2019-09-17  BTCUSD     10290  ...  10214.86     2944.28  30156486.97\n",
            "23    2019-09-16  BTCUSD  10321.42  ...     10290     5515.26  56380470.07\n",
            "24    2019-09-15  BTCUSD     10380  ...  10321.42     1885.62  19486372.51\n",
            "25    2019-09-14  BTCUSD     10374  ...     10380     3155.79  32801466.46\n",
            "26    2019-09-13  BTCUSD     10452  ...     10374     4501.19  46417698.48\n",
            "27    2019-09-12  BTCUSD     10175  ...     10452     4401.51   45313964.9\n",
            "28    2019-09-11  BTCUSD     10121  ...     10175     4348.62  43782091.22\n",
            "29    2019-09-10  BTCUSD     10317  ...     10121     4211.66  42722054.03\n",
            "...          ...     ...       ...  ...       ...         ...          ...\n",
            "1662  2015-03-10  BTCUSD     291.2  ...    292.62    66533.18   19689801.8\n",
            "1663  2015-03-09  BTCUSD    275.23  ...     291.2    62709.27  17935918.08\n",
            "1664  2015-03-08  BTCUSD    275.95  ...    275.23    14729.83   4059996.89\n",
            "1665  2015-03-07  BTCUSD    273.89  ...    275.95    22095.92    6096102.1\n",
            "1666  2015-03-06  BTCUSD    278.51  ...    273.89    40490.63  11083898.02\n",
            "1667  2015-03-05  BTCUSD    273.74  ...    278.51    67235.69  18281541.95\n",
            "1668  2015-03-04  BTCUSD     283.2  ...    273.74    71328.67  19833718.19\n",
            "1669  2015-03-03  BTCUSD     277.3  ...     283.2    75940.04  21157890.72\n",
            "1670  2015-03-02  BTCUSD    262.47  ...    275.99    35351.14   9448438.14\n",
            "1671  2015-03-01  BTCUSD     255.7  ...    261.15    24361.06   6156716.71\n",
            "1672  2015-02-28  BTCUSD    255.05  ...    255.77    10695.34   2721373.29\n",
            "1673  2015-02-27  BTCUSD       237  ...     256.4    69269.58  17536633.13\n",
            "1674  2015-02-26  BTCUSD       238  ...       237    18691.43   4418655.89\n",
            "1675  2015-02-25  BTCUSD    239.68  ...       238     13574.5   3230232.16\n",
            "1676  2015-02-24  BTCUSD    239.73  ...    239.68    16784.31   4013461.44\n",
            "1677  2015-02-23  BTCUSD    236.59  ...    239.73    23893.09   5666261.84\n",
            "1678  2015-02-22  BTCUSD     245.1  ...    236.59     33394.5   7971863.56\n",
            "1679  2015-02-21  BTCUSD    245.53  ...     245.1    16514.04   4052466.26\n",
            "1680  2015-02-20  BTCUSD     241.9  ...    245.53    33337.97   8136342.67\n",
            "1681  2015-02-19  BTCUSD     234.8  ...     241.9    22792.55   5446200.04\n",
            "1682  2015-02-18  BTCUSD    242.87  ...     234.8    38588.38   9164141.83\n",
            "1683  2015-02-17  BTCUSD    236.78  ...    242.87    42669.08  10228035.45\n",
            "1684  2015-02-16  BTCUSD    234.14  ...    236.78    45750.85  10798751.12\n",
            "1685  2015-02-15  BTCUSD       257  ...    234.14    71361.28   17384420.7\n",
            "1686  2015-02-14  BTCUSD    236.13  ...    258.12    42984.94  10739014.48\n",
            "1687  2015-02-13  BTCUSD    222.39  ...       236    29079.11   6806972.89\n",
            "1688  2015-02-12  BTCUSD    219.19  ...     222.6    11190.65   2468883.37\n",
            "1689  2015-02-11  BTCUSD    220.96  ...    219.19    19289.28   4268986.79\n",
            "1690  2015-02-10  BTCUSD    220.61  ...    220.96    29268.95   6402350.57\n",
            "1691  2015-02-09  BTCUSD    224.22  ...    220.61    29625.03   6493501.42\n",
            "\n",
            "[1692 rows x 8 columns]\n"
          ],
          "name": "stdout"
        }
      ]
    },
    {
      "cell_type": "code",
      "metadata": {
        "id": "tHOtV0qCi-6I",
        "colab_type": "code",
        "colab": {
          "base_uri": "https://localhost:8080/",
          "height": 1000
        },
        "outputId": "e9ae8373-ef7c-4716-c448-9d0474f75b78"
      },
      "source": [
        "print(df_coinbase)"
      ],
      "execution_count": 11,
      "outputs": [
        {
          "output_type": "stream",
          "text": [
            "               0       1         2  ...         5           6            7\n",
            "0           Date  Symbol      Open  ...     Close  Volume BTC   Volume USD\n",
            "1     2019-10-08  BTCUSD      8209  ...   8216.39        2329  19198358.02\n",
            "2     2019-10-07  BTCUSD   7859.79  ...      8209     9969.38  80691163.82\n",
            "3     2019-10-06  BTCUSD   8147.63  ...   7859.79     7770.16  61753052.16\n",
            "4     2019-10-05  BTCUSD   8156.67  ...   8147.63     3809.86  30873507.65\n",
            "5     2019-10-04  BTCUSD   8240.41  ...   8156.67     7620.06   62078561.3\n",
            "6     2019-10-03  BTCUSD   8381.72  ...   8240.41     7550.73  62037926.73\n",
            "7     2019-10-02  BTCUSD   8321.52  ...   8381.72     7006.37  57883644.17\n",
            "8     2019-10-01  BTCUSD   8304.96  ...   8321.52     12133.1  101594010.6\n",
            "9     2019-09-30  BTCUSD    8052.4  ...   8304.96    14235.43  114990553.1\n",
            "10    2019-09-29  BTCUSD   8217.47  ...    8052.4     6911.51  55634607.52\n",
            "11    2019-09-28  BTCUSD   8193.99  ...   8217.47     8846.18  72162358.51\n",
            "12    2019-09-27  BTCUSD      8060  ...   8193.99    15793.45  127240779.1\n",
            "13    2019-09-26  BTCUSD   8438.35  ...      8060    25063.02    202894604\n",
            "14    2019-09-25  BTCUSD   8530.01  ...   8438.35    23161.99    195698352\n",
            "15    2019-09-24  BTCUSD   9693.74  ...   8530.01    31693.09  282987748.5\n",
            "16    2019-09-23  BTCUSD   10026.8  ...   9693.74    10409.03  102332904.4\n",
            "17    2019-09-22  BTCUSD   9973.99  ...   10026.8     5113.54  51003517.74\n",
            "18    2019-09-21  BTCUSD  10168.85  ...   9973.99     4829.81  48372943.24\n",
            "19    2019-09-20  BTCUSD  10275.01  ...  10168.85     6147.42   62522073.7\n",
            "20    2019-09-19  BTCUSD  10155.26  ...  10275.01    13548.83  134927397.8\n",
            "21    2019-09-18  BTCUSD  10185.39  ...  10155.26     5564.14  56681450.55\n",
            "22    2019-09-17  BTCUSD  10262.54  ...  10185.39     5710.49  58364825.36\n",
            "23    2019-09-16  BTCUSD  10304.46  ...  10262.54     7384.74  75476404.07\n",
            "24    2019-09-15  BTCUSD  10360.25  ...  10304.46     2735.17  28202179.16\n",
            "25    2019-09-14  BTCUSD  10365.93  ...  10360.25     4413.03   45673649.1\n",
            "26    2019-09-13  BTCUSD  10423.72  ...  10365.93     6799.62  70031660.47\n",
            "27    2019-09-12  BTCUSD   10160.2  ...  10423.72     7569.29  77805911.82\n",
            "28    2019-09-11  BTCUSD  10093.01  ...   10160.2     7694.14  77391519.96\n",
            "29    2019-09-10  BTCUSD     10310  ...  10093.01     7620.05  77363574.82\n",
            "...          ...     ...       ...  ...       ...         ...          ...\n",
            "1732  2014-12-30  BTCUSD       340  ...       340           0            0\n",
            "1733  2014-12-29  BTCUSD       340  ...       340           0            0\n",
            "1734  2014-12-28  BTCUSD       340  ...       340           0            0\n",
            "1735  2014-12-27  BTCUSD       340  ...       340           0            0\n",
            "1736  2014-12-26  BTCUSD       340  ...       340           0            0\n",
            "1737  2014-12-25  BTCUSD       340  ...       340           0            0\n",
            "1738  2014-12-24  BTCUSD       340  ...       340           0            0\n",
            "1739  2014-12-23  BTCUSD       340  ...       340           0            0\n",
            "1740  2014-12-22  BTCUSD       340  ...       340           0            0\n",
            "1741  2014-12-21  BTCUSD       340  ...       340           0            0\n",
            "1742  2014-12-20  BTCUSD       340  ...       340           0            0\n",
            "1743  2014-12-19  BTCUSD       340  ...       340           0            0\n",
            "1744  2014-12-18  BTCUSD       350  ...       340           2          685\n",
            "1745  2014-12-17  BTCUSD       350  ...       350           0            0\n",
            "1746  2014-12-16  BTCUSD       350  ...       350           0            0\n",
            "1747  2014-12-15  BTCUSD       350  ...       350           0            0\n",
            "1748  2014-12-14  BTCUSD       350  ...       350           0            0\n",
            "1749  2014-12-13  BTCUSD       350  ...       350           0            0\n",
            "1750  2014-12-12  BTCUSD     360.5  ...       350        3.15      1115.49\n",
            "1751  2014-12-11  BTCUSD     360.5  ...     360.5           0            0\n",
            "1752  2014-12-10  BTCUSD       375  ...     360.5        0.02         7.59\n",
            "1753  2014-12-09  BTCUSD       375  ...       375           0            0\n",
            "1754  2014-12-08  BTCUSD       378  ...       375       0.235        88.13\n",
            "1755  2014-12-07  BTCUSD       378  ...       378           0            0\n",
            "1756  2014-12-06  BTCUSD     377.1  ...       378       0.015         5.67\n",
            "1757  2014-12-05  BTCUSD     377.1  ...     377.1           0            0\n",
            "1758  2014-12-04  BTCUSD       378  ...     377.1        0.01         3.77\n",
            "1759  2014-12-03  BTCUSD       378  ...       378      0.5466       206.52\n",
            "1760  2014-12-02  BTCUSD       370  ...       378       15.01      5675.07\n",
            "1761  2014-12-01  BTCUSD       300  ...       370     0.05656        19.53\n",
            "\n",
            "[1762 rows x 8 columns]\n"
          ],
          "name": "stdout"
        }
      ]
    },
    {
      "cell_type": "code",
      "metadata": {
        "id": "OexdtmnonWqD",
        "colab_type": "code",
        "colab": {}
      },
      "source": [
        "# Reverse the rows in the dataframe from oldest values to newest valude\n",
        "df_coinbase_reverse = df_coinbase\n",
        "\n",
        "df_coinbase_reverse = df_coinbase_reverse.iloc[::-1]\n",
        "\n",
        "df_bitfinex_reverse = df_bitfinex.iloc[::-1]"
      ],
      "execution_count": 0,
      "outputs": []
    },
    {
      "cell_type": "code",
      "metadata": {
        "id": "6JaqWosIrf3k",
        "colab_type": "code",
        "colab": {
          "base_uri": "https://localhost:8080/",
          "height": 1000
        },
        "outputId": "e3bd1a5d-299d-4737-ae59-e184beb27250"
      },
      "source": [
        "# print reversed coinbase\n",
        "print(df_coinbase_reverse)"
      ],
      "execution_count": 13,
      "outputs": [
        {
          "output_type": "stream",
          "text": [
            "               0       1         2  ...         5           6            7\n",
            "1761  2014-12-01  BTCUSD       300  ...       370     0.05656        19.53\n",
            "1760  2014-12-02  BTCUSD       370  ...       378       15.01      5675.07\n",
            "1759  2014-12-03  BTCUSD       378  ...       378      0.5466       206.52\n",
            "1758  2014-12-04  BTCUSD       378  ...     377.1        0.01         3.77\n",
            "1757  2014-12-05  BTCUSD     377.1  ...     377.1           0            0\n",
            "1756  2014-12-06  BTCUSD     377.1  ...       378       0.015         5.67\n",
            "1755  2014-12-07  BTCUSD       378  ...       378           0            0\n",
            "1754  2014-12-08  BTCUSD       378  ...       375       0.235        88.13\n",
            "1753  2014-12-09  BTCUSD       375  ...       375           0            0\n",
            "1752  2014-12-10  BTCUSD       375  ...     360.5        0.02         7.59\n",
            "1751  2014-12-11  BTCUSD     360.5  ...     360.5           0            0\n",
            "1750  2014-12-12  BTCUSD     360.5  ...       350        3.15      1115.49\n",
            "1749  2014-12-13  BTCUSD       350  ...       350           0            0\n",
            "1748  2014-12-14  BTCUSD       350  ...       350           0            0\n",
            "1747  2014-12-15  BTCUSD       350  ...       350           0            0\n",
            "1746  2014-12-16  BTCUSD       350  ...       350           0            0\n",
            "1745  2014-12-17  BTCUSD       350  ...       350           0            0\n",
            "1744  2014-12-18  BTCUSD       350  ...       340           2          685\n",
            "1743  2014-12-19  BTCUSD       340  ...       340           0            0\n",
            "1742  2014-12-20  BTCUSD       340  ...       340           0            0\n",
            "1741  2014-12-21  BTCUSD       340  ...       340           0            0\n",
            "1740  2014-12-22  BTCUSD       340  ...       340           0            0\n",
            "1739  2014-12-23  BTCUSD       340  ...       340           0            0\n",
            "1738  2014-12-24  BTCUSD       340  ...       340           0            0\n",
            "1737  2014-12-25  BTCUSD       340  ...       340           0            0\n",
            "1736  2014-12-26  BTCUSD       340  ...       340           0            0\n",
            "1735  2014-12-27  BTCUSD       340  ...       340           0            0\n",
            "1734  2014-12-28  BTCUSD       340  ...       340           0            0\n",
            "1733  2014-12-29  BTCUSD       340  ...       340           0            0\n",
            "1732  2014-12-30  BTCUSD       340  ...       340           0            0\n",
            "...          ...     ...       ...  ...       ...         ...          ...\n",
            "29    2019-09-10  BTCUSD     10310  ...  10093.01     7620.05  77363574.82\n",
            "28    2019-09-11  BTCUSD  10093.01  ...   10160.2     7694.14  77391519.96\n",
            "27    2019-09-12  BTCUSD   10160.2  ...  10423.72     7569.29  77805911.82\n",
            "26    2019-09-13  BTCUSD  10423.72  ...  10365.93     6799.62  70031660.47\n",
            "25    2019-09-14  BTCUSD  10365.93  ...  10360.25     4413.03   45673649.1\n",
            "24    2019-09-15  BTCUSD  10360.25  ...  10304.46     2735.17  28202179.16\n",
            "23    2019-09-16  BTCUSD  10304.46  ...  10262.54     7384.74  75476404.07\n",
            "22    2019-09-17  BTCUSD  10262.54  ...  10185.39     5710.49  58364825.36\n",
            "21    2019-09-18  BTCUSD  10185.39  ...  10155.26     5564.14  56681450.55\n",
            "20    2019-09-19  BTCUSD  10155.26  ...  10275.01    13548.83  134927397.8\n",
            "19    2019-09-20  BTCUSD  10275.01  ...  10168.85     6147.42   62522073.7\n",
            "18    2019-09-21  BTCUSD  10168.85  ...   9973.99     4829.81  48372943.24\n",
            "17    2019-09-22  BTCUSD   9973.99  ...   10026.8     5113.54  51003517.74\n",
            "16    2019-09-23  BTCUSD   10026.8  ...   9693.74    10409.03  102332904.4\n",
            "15    2019-09-24  BTCUSD   9693.74  ...   8530.01    31693.09  282987748.5\n",
            "14    2019-09-25  BTCUSD   8530.01  ...   8438.35    23161.99    195698352\n",
            "13    2019-09-26  BTCUSD   8438.35  ...      8060    25063.02    202894604\n",
            "12    2019-09-27  BTCUSD      8060  ...   8193.99    15793.45  127240779.1\n",
            "11    2019-09-28  BTCUSD   8193.99  ...   8217.47     8846.18  72162358.51\n",
            "10    2019-09-29  BTCUSD   8217.47  ...    8052.4     6911.51  55634607.52\n",
            "9     2019-09-30  BTCUSD    8052.4  ...   8304.96    14235.43  114990553.1\n",
            "8     2019-10-01  BTCUSD   8304.96  ...   8321.52     12133.1  101594010.6\n",
            "7     2019-10-02  BTCUSD   8321.52  ...   8381.72     7006.37  57883644.17\n",
            "6     2019-10-03  BTCUSD   8381.72  ...   8240.41     7550.73  62037926.73\n",
            "5     2019-10-04  BTCUSD   8240.41  ...   8156.67     7620.06   62078561.3\n",
            "4     2019-10-05  BTCUSD   8156.67  ...   8147.63     3809.86  30873507.65\n",
            "3     2019-10-06  BTCUSD   8147.63  ...   7859.79     7770.16  61753052.16\n",
            "2     2019-10-07  BTCUSD   7859.79  ...      8209     9969.38  80691163.82\n",
            "1     2019-10-08  BTCUSD      8209  ...   8216.39        2329  19198358.02\n",
            "0           Date  Symbol      Open  ...     Close  Volume BTC   Volume USD\n",
            "\n",
            "[1762 rows x 8 columns]\n"
          ],
          "name": "stdout"
        }
      ]
    },
    {
      "cell_type": "code",
      "metadata": {
        "id": "WCr9dakQrwi5",
        "colab_type": "code",
        "colab": {
          "base_uri": "https://localhost:8080/",
          "height": 1000
        },
        "outputId": "55b37a09-9b3e-4e15-9d5c-98f4ddaa28ec"
      },
      "source": [
        "# print reversed bitfinex\n",
        "print(df_bitfinex_reverse)"
      ],
      "execution_count": 14,
      "outputs": [
        {
          "output_type": "stream",
          "text": [
            "               0       1         2  ...         5           6            7\n",
            "1691  2015-02-09  BTCUSD    224.22  ...    220.61    29625.03   6493501.42\n",
            "1690  2015-02-10  BTCUSD    220.61  ...    220.96    29268.95   6402350.57\n",
            "1689  2015-02-11  BTCUSD    220.96  ...    219.19    19289.28   4268986.79\n",
            "1688  2015-02-12  BTCUSD    219.19  ...     222.6    11190.65   2468883.37\n",
            "1687  2015-02-13  BTCUSD    222.39  ...       236    29079.11   6806972.89\n",
            "1686  2015-02-14  BTCUSD    236.13  ...    258.12    42984.94  10739014.48\n",
            "1685  2015-02-15  BTCUSD       257  ...    234.14    71361.28   17384420.7\n",
            "1684  2015-02-16  BTCUSD    234.14  ...    236.78    45750.85  10798751.12\n",
            "1683  2015-02-17  BTCUSD    236.78  ...    242.87    42669.08  10228035.45\n",
            "1682  2015-02-18  BTCUSD    242.87  ...     234.8    38588.38   9164141.83\n",
            "1681  2015-02-19  BTCUSD     234.8  ...     241.9    22792.55   5446200.04\n",
            "1680  2015-02-20  BTCUSD     241.9  ...    245.53    33337.97   8136342.67\n",
            "1679  2015-02-21  BTCUSD    245.53  ...     245.1    16514.04   4052466.26\n",
            "1678  2015-02-22  BTCUSD     245.1  ...    236.59     33394.5   7971863.56\n",
            "1677  2015-02-23  BTCUSD    236.59  ...    239.73    23893.09   5666261.84\n",
            "1676  2015-02-24  BTCUSD    239.73  ...    239.68    16784.31   4013461.44\n",
            "1675  2015-02-25  BTCUSD    239.68  ...       238     13574.5   3230232.16\n",
            "1674  2015-02-26  BTCUSD       238  ...       237    18691.43   4418655.89\n",
            "1673  2015-02-27  BTCUSD       237  ...     256.4    69269.58  17536633.13\n",
            "1672  2015-02-28  BTCUSD    255.05  ...    255.77    10695.34   2721373.29\n",
            "1671  2015-03-01  BTCUSD     255.7  ...    261.15    24361.06   6156716.71\n",
            "1670  2015-03-02  BTCUSD    262.47  ...    275.99    35351.14   9448438.14\n",
            "1669  2015-03-03  BTCUSD     277.3  ...     283.2    75940.04  21157890.72\n",
            "1668  2015-03-04  BTCUSD     283.2  ...    273.74    71328.67  19833718.19\n",
            "1667  2015-03-05  BTCUSD    273.74  ...    278.51    67235.69  18281541.95\n",
            "1666  2015-03-06  BTCUSD    278.51  ...    273.89    40490.63  11083898.02\n",
            "1665  2015-03-07  BTCUSD    273.89  ...    275.95    22095.92    6096102.1\n",
            "1664  2015-03-08  BTCUSD    275.95  ...    275.23    14729.83   4059996.89\n",
            "1663  2015-03-09  BTCUSD    275.23  ...     291.2    62709.27  17935918.08\n",
            "1662  2015-03-10  BTCUSD     291.2  ...    292.62    66533.18   19689801.8\n",
            "...          ...     ...       ...  ...       ...         ...          ...\n",
            "29    2019-09-10  BTCUSD     10317  ...     10121     4211.66  42722054.03\n",
            "28    2019-09-11  BTCUSD     10121  ...     10175     4348.62  43782091.22\n",
            "27    2019-09-12  BTCUSD     10175  ...     10452     4401.51   45313964.9\n",
            "26    2019-09-13  BTCUSD     10452  ...     10374     4501.19  46417698.48\n",
            "25    2019-09-14  BTCUSD     10374  ...     10380     3155.79  32801466.46\n",
            "24    2019-09-15  BTCUSD     10380  ...  10321.42     1885.62  19486372.51\n",
            "23    2019-09-16  BTCUSD  10321.42  ...     10290     5515.26  56380470.07\n",
            "22    2019-09-17  BTCUSD     10290  ...  10214.86     2944.28  30156486.97\n",
            "21    2019-09-18  BTCUSD  10214.86  ...     10185     3339.09  34080717.87\n",
            "20    2019-09-19  BTCUSD     10185  ...     10301     9766.07  97965321.95\n",
            "19    2019-09-20  BTCUSD     10301  ...     10197      2513.7   25660191.4\n",
            "18    2019-09-21  BTCUSD     10197  ...     10013     2979.88  29943816.81\n",
            "17    2019-09-22  BTCUSD     10013  ...     10055     2752.45  27523592.55\n",
            "16    2019-09-23  BTCUSD     10055  ...    9702.6     5486.04  53969510.57\n",
            "15    2019-09-24  BTCUSD    9702.6  ...    8538.7     34867.7    307985234\n",
            "14    2019-09-25  BTCUSD    8538.7  ...    8475.3    12765.89  108207657.4\n",
            "13    2019-09-26  BTCUSD    8475.3  ...    8105.9    15408.93  125180468.7\n",
            "12    2019-09-27  BTCUSD    8105.9  ...    8213.4     7469.15  60208646.12\n",
            "11    2019-09-28  BTCUSD    8213.4  ...    8238.2     5447.13  44602497.95\n",
            "10    2019-09-29  BTCUSD    8238.2  ...      8090     6143.56  49454030.63\n",
            "9     2019-09-30  BTCUSD      8090  ...   8331.14    10919.75  87839295.32\n",
            "8     2019-10-01  BTCUSD   8331.14  ...    8334.9      5835.9  49049132.41\n",
            "7     2019-10-02  BTCUSD    8334.9  ...   8414.88     3448.52  28570950.97\n",
            "6     2019-10-03  BTCUSD   8414.88  ...      8258     3716.19  30623737.96\n",
            "5     2019-10-04  BTCUSD      8258  ...      8170     3051.67   24946287.9\n",
            "4     2019-10-05  BTCUSD      8170  ...    8162.5     3327.26  27021471.49\n",
            "3     2019-10-06  BTCUSD    8162.5  ...    7882.9     5857.54  46641948.11\n",
            "2     2019-10-07  BTCUSD    7882.9  ...      8227     8149.21  66182672.83\n",
            "1     2019-10-08  BTCUSD      8227  ...   8205.14     1584.55  13097499.82\n",
            "0           Date  Symbol      Open  ...     Close  Volume BTC   Volume USD\n",
            "\n",
            "[1692 rows x 8 columns]\n"
          ],
          "name": "stdout"
        }
      ]
    },
    {
      "cell_type": "code",
      "metadata": {
        "id": "72jdx_riocdK",
        "colab_type": "code",
        "colab": {}
      },
      "source": [
        "# Convert to tsv\n",
        "# https://pandas.pydata.org/pandas-docs/stable/reference/api/pandas.DataFrame.to_csv.html\n"
      ],
      "execution_count": 0,
      "outputs": []
    },
    {
      "cell_type": "code",
      "metadata": {
        "id": "42H0oe9OV-AB",
        "colab_type": "code",
        "colab": {}
      },
      "source": [
        "import coinbasepro as cbp"
      ],
      "execution_count": 0,
      "outputs": []
    },
    {
      "cell_type": "code",
      "metadata": {
        "id": "ZvK0ADmFWg2_",
        "colab_type": "code",
        "colab": {
          "base_uri": "https://localhost:8080/",
          "height": 136
        },
        "outputId": "9612e137-5d7b-41b6-c8b6-32723785e42e"
      },
      "source": [
        "client = cbp.PublicClient()\n",
        "client.get_product_ticker('BTC-USD')\n"
      ],
      "execution_count": 16,
      "outputs": [
        {
          "output_type": "execute_result",
          "data": {
            "text/plain": [
              "{'ask': Decimal('8311.99'),\n",
              " 'bid': Decimal('8311.03'),\n",
              " 'price': Decimal('8311.03'),\n",
              " 'size': Decimal('0.02272793'),\n",
              " 'time': datetime.datetime(2019, 10, 11, 23, 32, 0, 800000),\n",
              " 'trade_id': 75843854,\n",
              " 'volume': Decimal('12139.18013373')}"
            ]
          },
          "metadata": {
            "tags": []
          },
          "execution_count": 16
        }
      ]
    },
    {
      "cell_type": "markdown",
      "metadata": {
        "id": "uiBcwaZAfvgq",
        "colab_type": "text"
      },
      "source": [
        "The granularity field must be one of the following values: {60, 300, 900, 3600, 21600, 86400}. Otherwise, your request will be rejected. These values correspond to timeslices representing one minute, five minutes, fifteen minutes, one hour, six hours, and one day, respectively."
      ]
    },
    {
      "cell_type": "code",
      "metadata": {
        "id": "NkemuNFdFZv7",
        "colab_type": "code",
        "colab": {
          "base_uri": "https://localhost:8080/",
          "height": 34
        },
        "outputId": "162e4614-d40d-482a-df4b-34d7eabfc342"
      },
      "source": [
        "next_coinbase_date_after_historic = '2019-10-09T00:00:00'\n",
        "d_iso = datetime.datetime(year = 2019, month = 10, day = 9).isoformat()\n",
        "\n",
        "print('ISO date now: ' + d_iso)"
      ],
      "execution_count": 41,
      "outputs": [
        {
          "output_type": "stream",
          "text": [
            "ISO date now: 2019-10-09T00:00:00\n"
          ],
          "name": "stdout"
        }
      ]
    },
    {
      "cell_type": "code",
      "metadata": {
        "id": "z9p6hbOKX7c6",
        "colab_type": "code",
        "colab": {
          "base_uri": "https://localhost:8080/",
          "height": 1000
        },
        "outputId": "5d4da574-7708-41de-bf33-220dcc36f0cc"
      },
      "source": [
        "\n",
        "\n",
        "client.get_product_trades('BTC-USD')\n",
        "client.get_product_24hr_stats('BTC-USD')\n",
        "#client.get_product_historic_rates('BTC-USD',start='2019-07-01T00:00:00',granularity=3600) # hourly bars\n",
        "\n",
        "historic_btcusd_json = client.get_product_historic_rates('BTC-USD',start=d_iso,granularity=86400) # daily bars\n",
        "\n",
        "\n",
        "df_coinbase_json = json_normalize(historic_btcusd_json)\n",
        "df_coinbase_csv = df_coinbase_json.to_csv(sep='\\t', encoding='utf-8')\n",
        "\n",
        "\n",
        "print(df_coinbase_csv)\n",
        "\n"
      ],
      "execution_count": 59,
      "outputs": [
        {
          "output_type": "stream",
          "text": [
            "\tclose\thigh\tlow\topen\ttime\tvolume\n",
            "0\t8287.58\t8313.92\t8261.46\t8263.02\t2019-10-12\t232.67290412\n",
            "1\t8267.33\t8826\t8226\t8587.49\t2019-10-11\t12446.84471206\n",
            "2\t8587.5\t8660\t8452.5\t8590.01\t2019-10-10\t7946.64222782\n",
            "3\t8590\t8712.45\t8121\t8180\t2019-10-09\t14459.7776891\n",
            "4\t8180\t8342.97\t8107.26\t8208.99\t2019-10-08\t5857.54021433\n",
            "5\t8209\t8310.57\t7762.35\t7859.79\t2019-10-07\t10012.00725014\n",
            "6\t7859.79\t8176.18\t7780.85\t8147.63\t2019-10-06\t8697.93975986\n",
            "7\t8147.63\t8200\t8020.2\t8156.68\t2019-10-05\t3826.82870697\n",
            "8\t8156.67\t8241.35\t8002.21\t8241.27\t2019-10-04\t7715.28010237\n",
            "9\t8240.41\t8419.95\t8059.22\t8381.72\t2019-10-03\t7778.11842343\n",
            "10\t8381.72\t8391\t8168.85\t8321.87\t2019-10-02\t7040.87668343\n",
            "11\t8321.52\t8535\t8200\t8304.95\t2019-10-01\t12266.35796784\n",
            "12\t8304.96\t8393.23\t7701\t8054.09\t2019-09-30\t15142.61949966\n",
            "13\t8052.4\t8246.87\t7902.96\t8217.47\t2019-09-29\t7142.36916333\n",
            "14\t8217.47\t8343\t8015.25\t8193.99\t2019-09-28\t9039.55200543\n",
            "15\t8193.99\t8290\t7861.02\t8060\t2019-09-27\t15914.66412076\n",
            "16\t8060\t8464.08\t7712.45\t8438.35\t2019-09-26\t27664.78945578\n",
            "17\t8438.35\t8743.86\t8222.01\t8530.01\t2019-09-25\t23524.43263014\n",
            "18\t8530.01\t9777.16\t8159.35\t9693.74\t2019-09-24\t38736.2261491\n",
            "19\t9693.74\t10051.15\t9609.37\t10026.79\t2019-09-23\t11355.88878537\n",
            "20\t10026.8\t10097\t9848.37\t9973.99\t2019-09-22\t5276.95241027\n",
            "21\t9973.99\t10170.15\t9917.34\t10168.85\t2019-09-21\t5043.0795144\n",
            "22\t10168.85\t10309.84\t10056.3\t10275.01\t2019-09-20\t6183.91792313\n",
            "23\t10275.01\t10379.15\t9585.86\t10156.22\t2019-09-19\t15625.02434239\n",
            "24\t10155.26\t10258\t10074.08\t10185.42\t2019-09-18\t5627.58140023\n",
            "25\t10185.39\t10276.18\t10135.44\t10262.54\t2019-09-17\t5716.17663911\n",
            "26\t10262.54\t10379.98\t10068.42\t10303.66\t2019-09-16\t7785.7271484\n",
            "27\t10304.46\t10380\t10263.39\t10360.01\t2019-09-15\t2745.26528355\n",
            "28\t10360.25\t10439\t10223.36\t10365.94\t2019-09-14\t4470.31545378\n",
            "29\t10365.93\t10452.5\t10157\t10423.85\t2019-09-13\t6909.03483326\n",
            "30\t10423.72\t10460\t10040\t10158.81\t2019-09-12\t7625.24967791\n",
            "31\t10160.2\t10297.12\t9851.97\t10093\t2019-09-11\t8374.04003496\n",
            "32\t10093.01\t10389.26\t9916\t10310.01\t2019-09-10\t8098.57574372\n",
            "33\t10310\t10541.75\t10059.99\t10401.13\t2019-09-09\t9745.07271844\n",
            "34\t10398.97\t10595\t10231.13\t10484.37\t2019-09-08\t4915.56585169\n",
            "35\t10484.37\t10580\t10304.52\t10308.9\t2019-09-07\t4381.36082048\n",
            "36\t10308.92\t10939.34\t10182\t10574.28\t2019-09-06\t15732.60470722\n",
            "37\t10574.73\t10666.43\t10452.15\t10581.84\t2019-09-05\t7432.47882878\n",
            "38\t10581.84\t10833.14\t10380\t10628.48\t2019-09-04\t12180.82546922\n",
            "39\t10628.48\t10790\t10280\t10381.26\t2019-09-03\t15518.02066249\n",
            "40\t10381.26\t10486.77\t9756.54\t9766.62\t2019-09-02\t11794.06048881\n",
            "41\t9766.52\t9840\t9539.58\t9600.86\t2019-09-01\t4200.85038239\n",
            "42\t9600.86\t9707.48\t9436.2\t9582.42\t2019-08-31\t4057.20202851\n",
            "43\t9582.42\t9699\t9337.97\t9494.8\t2019-08-30\t8734.15084369\n",
            "44\t9495\t9717.03\t9321.73\t9714.01\t2019-08-29\t14421.69716916\n",
            "45\t9714.31\t10277\t9522.93\t10171.95\t2019-08-28\t17637.06892056\n",
            "46\t10171.85\t10379.87\t10019.56\t10361.65\t2019-08-27\t7514.28766499\n",
            "47\t10361.65\t10680\t10140.9\t10142\t2019-08-26\t14125.38101325\n",
            "48\t10138.72\t10374.85\t9899.95\t10148\t2019-08-25\t7288.06423633\n",
            "49\t10147.96\t10429\t9886.26\t10413.45\t2019-08-24\t7987.20795651\n",
            "50\t10410.85\t10478\t10035.84\t10105.61\t2019-08-23\t9413.53218337\n",
            "51\t10107.15\t10237.53\t9759\t10133.34\t2019-08-22\t10912.33836991\n",
            "52\t10130\t10800\t9841.59\t10768.49\t2019-08-21\t17445.28744509\n",
            "53\t10769.09\t10953\t10555.7\t10917.94\t2019-08-20\t8820.93622259\n",
            "54\t10920\t10938.76\t10265\t10315.48\t2019-08-19\t12220.3862029\n",
            "55\t10315.48\t10513.45\t10066.66\t10217.99\t2019-08-18\t6794.78437545\n",
            "56\t10217.79\t10475.82\t9978\t10352.78\t2019-08-17\t7307.99789432\n",
            "57\t10352.78\t10539.9\t9739.99\t10300.01\t2019-08-16\t19532.59596641\n",
            "58\t10300.01\t10445\t9470\t10021.13\t2019-08-15\t27939.82663467\n",
            "59\t10025.86\t10859.97\t9888.88\t10854.92\t2019-08-14\t24889.57722872\n",
            "60\t10854.92\t11438.39\t10746\t11389.25\t2019-08-13\t12500.34295603\n",
            "61\t11389.28\t11555.55\t11222.4\t11540.76\t2019-08-12\t6095.28181493\n",
            "62\t11540.76\t11585\t11088.88\t11280.95\t2019-08-11\t7329.58936485\n",
            "63\t11280.95\t11969.99\t11170\t11860.62\t2019-08-10\t13852.24742434\n",
            "64\t11856.1\t12040\t11651.89\t11982.39\t2019-08-09\t11774.51896894\n",
            "65\t11981\t12050\t11451\t11983.41\t2019-08-08\t14887.10999049\n",
            "66\t11975.03\t12147\t11366.26\t11465.49\t2019-08-07\t22145.48730119\n",
            "67\t11465.49\t12320.4\t11187\t11811.75\t2019-08-06\t24773.04936684\n",
            "68\t11819.49\t11950\t10977.98\t10977.98\t2019-08-05\t23345.19630495\n",
            "69\t10977.51\t11089.74\t10572\t10822.09\t2019-08-04\t11813.6738868\n",
            "70\t10820.76\t10922.08\t10500\t10533.62\t2019-08-03\t10082.35714313\n",
            "71\t10533.01\t10670\t10321.42\t10404.41\t2019-08-02\t13217.84401203\n",
            "72\t10405.94\t10497\t9881\t10089.97\t2019-08-01\t14432.5695627\n",
            "73\t10087.3\t10135.12\t9570.01\t9589.01\t2019-07-31\t12849.73773412\n",
            "74\t9589.01\t9839.83\t9371.96\t9499.21\t2019-07-30\t9411.16267094\n",
            "75\t9495.01\t9729.87\t9356.75\t9533\t2019-07-29\t10565.16661892\n",
            "76\t9533\t9669.11\t9108.88\t9469.37\t2019-07-28\t10054.74987437\n",
            "77\t9479.98\t10248.41\t9292\t9843\t2019-07-27\t18982.08417104\n",
            "78\t9843\t9898.03\t9657.21\t9880.86\t2019-07-26\t10732.61028519\n",
            "79\t9883.33\t10184.99\t9734.58\t9772.59\t2019-07-25\t13297.27954025\n",
            "80\t9772.6\t9919.08\t9507.38\t9848.9\t2019-07-24\t18264.50732336\n",
            "81\t9840.12\t10324.28\t9800.23\t10324.13\t2019-07-23\t18059.22175271\n",
            "82\t10323.39\t10688.14\t10060\t10590.71\t2019-07-22\t15798.9279419\n",
            "83\t10590.7\t10835\t10320\t10761.03\t2019-07-21\t11939.86553507\n",
            "84\t10761.03\t11112.31\t10360.65\t10536.92\t2019-07-20\t18390.4921253\n",
            "85\t10538.06\t10777.21\t10111\t10652.76\t2019-07-19\t19729.47932166\n",
            "86\t10649.07\t10799\t9291\t9696.39\t2019-07-18\t33044.50123646\n",
            "87\t9696.31\t9998\t9071\t9429.8\t2019-07-17\t35319.410925\n",
            "88\t9422.72\t11040\t9350\t10856.41\t2019-07-16\t43610.3814887\n",
            "89\t10854.47\t11080.01\t9857.27\t10190.91\t2019-07-15\t34137.37304062\n",
            "90\t10185.03\t11467.27\t10084.4\t11370.06\t2019-07-14\t25829.61014172\n",
            "91\t11370.08\t11845\t10814.4\t11797.53\t2019-07-13\t18417.60494114\n",
            "92\t11802\t11950\t11079.59\t11348.56\t2019-07-12\t18541.25295757\n",
            "93\t11349\t12097.93\t10933\t12097.48\t2019-07-11\t37301.32072503\n",
            "94\t12097.96\t13202.63\t11553.21\t12572.12\t2019-07-10\t41379.8431996\n",
            "95\t12571.11\t12829.96\t12105.32\t12293.39\t2019-07-09\t27431.42201721\n",
            "96\t12293.53\t12395\t11328.01\t11474.44\t2019-07-08\t20423.56124492\n",
            "97\t11474.42\t11620\t11084.31\t11237.77\t2019-07-07\t11293.22901394\n",
            "98\t11237.77\t11723.6\t10980.09\t10994.99\t2019-07-06\t15612.77821957\n",
            "99\t11004.51\t11449.51\t10761.8\t11137.87\t2019-07-05\t20737.37976413\n",
            "100\t11136\t12064.26\t11035.01\t11976.01\t2019-07-04\t22601.37480257\n",
            "101\t11976.42\t12014.6\t10829.19\t10829.19\t2019-07-03\t38216.68004129\n",
            "102\t10829.18\t10925\t9651\t10578.23\t2019-07-02\t43614.89365309\n",
            "103\t10577.63\t11210.52\t9953\t10761.26\t2019-07-01\t39825.95471069\n",
            "104\t10761.26\t12200\t10650.06\t11869.84\t2019-06-30\t28722.48538952\n",
            "105\t11865.29\t12379.99\t11318.94\t12360.42\t2019-06-29\t28879.34994129\n",
            "106\t12360.45\t12444.77\t10737.87\t11159.29\t2019-06-28\t42092.85495596\n",
            "107\t11159.29\t13358.68\t10300\t12927.44\t2019-06-27\t77275.98772137\n",
            "108\t12927.44\t13868.44\t11350\t11754.25\t2019-06-26\t82377.604193\n",
            "109\t11755.53\t11788.88\t10997\t11030.8\t2019-06-25\t25027.55358061\n",
            "110\t11032.32\t11091.97\t10550.21\t10833\t2019-06-24\t15499.05518954\n",
            "111\t10833.02\t11284.44\t10490\t10666.87\t2019-06-23\t17386.65814456\n",
            "112\t10666.86\t11215.89\t10080\t10235.59\t2019-06-22\t38347.96821307\n",
            "113\t10236.2\t10245\t9531.21\t9531.21\t2019-06-21\t24905.11878991\n",
            "114\t9531.21\t9599\t9210.3\t9277.55\t2019-06-20\t12144.51015941\n",
            "115\t9277.54\t9319.5\t9035.75\t9078.48\t2019-06-19\t9225.45675764\n",
            "116\t9078.48\t9359.48\t8919.72\t9333.08\t2019-06-18\t16415.4159215\n",
            "117\t9333.14\t9475\t8975.78\t8975.78\t2019-06-17\t20653.48868711\n",
            "118\t8975\t9388\t8799.7\t8856.13\t2019-06-16\t22620.39051169\n",
            "119\t8860.23\t8916.63\t8588.7\t8697.45\t2019-06-15\t9997.17582098\n",
            "120\t8697.46\t8738.92\t8180.08\t8239.04\t2019-06-14\t12739.93242229\n",
            "121\t8239.04\t8329.99\t8048.75\t8176.03\t2019-06-13\t8631.6679812\n",
            "122\t8176.02\t8292.43\t7817\t7913.64\t2019-06-12\t12826.8715595\n",
            "123\t7918.17\t8057.19\t7702.83\t8015.7\t2019-06-11\t7810.18254388\n",
            "124\t8015.69\t8097.35\t7516.9\t7635.05\t2019-06-10\t9866.51844682\n",
            "125\t7634.58\t7960\t7508.77\t7930.14\t2019-06-09\t7667.4720151\n",
            "126\t7930.14\t8059.99\t7786.01\t7998.13\t2019-06-08\t5088.51192976\n",
            "127\t7998.13\t8134.29\t7756.79\t7805\t2019-06-07\t12669.68777089\n",
            "128\t7805\t7874.68\t7450\t7787.36\t2019-06-06\t12526.0791548\n",
            "129\t7789.48\t7932.87\t7570\t7671.07\t2019-06-05\t13294.21843767\n",
            "130\t7670.96\t8104.95\t7427\t8104.95\t2019-06-04\t30486.58038816\n",
            "131\t8107.96\t8742.48\t8030.46\t8736.55\t2019-06-03\t16677.69381419\n",
            "132\t8736.55\t8834\t8550\t8558.8\t2019-06-02\t5865.28679631\n",
            "133\t8558.95\t8618\t8452.21\t8554.06\t2019-06-01\t7486.03153748\n",
            "134\t8554.06\t8580\t8110\t8279.69\t2019-05-31\t16598.9906999\n",
            "135\t8279.69\t9090\t7972\t8662.44\t2019-05-30\t31707.59661067\n",
            "136\t8662.44\t8760.43\t8426.09\t8715.36\t2019-05-29\t12327.60538948\n",
            "137\t8715.36\t8822.46\t8545\t8772.29\t2019-05-28\t11990.4786465\n",
            "138\t8772.29\t8947.88\t8611.44\t8732.34\t2019-05-27\t18163.72218119\n",
            "139\t8731.72\t8793.97\t7881.7\t8063.68\t2019-05-26\t19430.80768485\n",
            "140\t8063.81\t8149\t7941.25\t8001.69\t2019-05-25\t5373.26586404\n",
            "141\t8001.7\t8175\t7794.73\t7878.16\t2019-05-24\t14767.93865471\n",
            "142\t7881.98\t7984.9\t7467.1\t7622.25\t2019-05-23\t14905.94956167\n",
            "143\t7626.48\t8044.32\t7506.12\t7951.69\t2019-05-22\t17522.65516801\n",
            "144\t7951.7\t8112.99\t7805.34\t7998.94\t2019-05-21\t14246.43358032\n",
            "145\t7999.54\t8199.53\t7570.31\t8194.34\t2019-05-20\t25402.08288327\n",
            "146\t8200\t8315\t7252.58\t7262.39\t2019-05-19\t25170.35141068\n",
            "147\t7262.4\t7491.22\t7204.42\t7363.85\t2019-05-18\t11074.40023056\n",
            "148\t7363.69\t7940.75\t6600\t7881.39\t2019-05-17\t47374.72004433\n",
            "149\t7878.96\t8388\t7660.74\t8203.33\t2019-05-16\t29391.33326238\n",
            "150\t8203.32\t8308.16\t7831.77\t7990.92\t2019-05-15\t24928.15679387\n",
            "151\t7990.92\t8350\t7621.27\t7822.88\t2019-05-14\t39515.75092642\n",
            "152\t7824.93\t8195\t6864.93\t6979.24\t2019-05-13\t47215.37160625\n",
            "153\t6979.76\t7581.82\t6755\t7215.02\t2019-05-12\t41012.54156875\n",
            "154\t7219.95\t7464.13\t6342.98\t6342.99\t2019-05-11\t37819.24015936\n",
            "155\t6343.14\t6430\t6108.81\t6153.09\t2019-05-10\t17600.38078264\n",
            "156\t6153.09\t6171.1\t5934.49\t5947\t2019-05-09\t15697.64557254\n",
            "157\t5948.41\t5990\t5656.26\t5748.47\t2019-05-08\t12720.17516002\n",
            "158\t5748.45\t5974.51\t5687.9\t5687.9\t2019-05-07\t16066.74315422\n",
            "159\t5687.9\t5753.66\t5564.93\t5715.86\t2019-05-06\t9144.01872377\n",
            "160\t5715.86\t5782.22\t5627.35\t5770.01\t2019-05-05\t5764.75926622\n",
            "161\t5770.01\t5846.88\t5512\t5657.41\t2019-05-04\t11070.84484696\n",
            "162\t5657.4\t5796.93\t5363\t5390\t2019-05-03\t19730.73219167\n",
            "163\t5390.01\t5422.99\t5306.09\t5321.15\t2019-05-02\t7324.97455784\n",
            "164\t5321.15\t5358.39\t5265.61\t5270.68\t2019-05-01\t7327.28530895\n",
            "165\t5270.69\t5285\t5126.25\t5148.25\t2019-04-30\t7270.79721224\n",
            "166\t5148.25\t5189.54\t5072.01\t5155\t2019-04-29\t7338.23455569\n",
            "167\t5155\t5214.5\t5101\t5171.9\t2019-04-28\t4913.46465612\n",
            "168\t5170.6\t5221.24\t5117.46\t5159.5\t2019-04-27\t4268.747635\n",
            "169\t5159.51\t5295.03\t5041.14\t5134.82\t2019-04-26\t14423.59230926\n",
            "170\t5134.81\t5512.12\t4963\t5440.59\t2019-04-25\t18152.86625521\n",
            "171\t5441.9\t5624.47\t5374\t5532.75\t2019-04-24\t15137.83284352\n",
            "172\t5532.75\t5650.01\t5361.01\t5387.6\t2019-04-23\t18208.5965253\n",
            "173\t5387.6\t5440.84\t5250.45\t5297.64\t2019-04-22\t12286.70533914\n",
            "174\t5297.64\t5349.16\t5213.34\t5319.9\t2019-04-21\t5748.50732462\n",
            "175\t5319.89\t5359.98\t5260.24\t5290.37\t2019-04-20\t4905.68285834\n",
            "176\t5290.36\t5359.47\t5196.7\t5280.5\t2019-04-19\t6330.55080825\n",
            "177\t5281.81\t5318.18\t5222.26\t5227\t2019-04-18\t8234.19965894\n",
            "178\t5227\t5272.32\t5173.11\t5201.21\t2019-04-17\t7415.7258123\n",
            "179\t5202.9\t5229.97\t5016.45\t5029.99\t2019-04-16\t8624.24494496\n",
            "180\t5029.99\t5193.01\t4945.54\t5163.81\t2019-04-15\t10155.67146076\n",
            "181\t5164.27\t5191.19\t5013.81\t5065.02\t2019-04-14\t4408.9676634\n",
            "182\t5066.22\t5123.28\t5036.74\t5078.19\t2019-04-13\t4288.93959827\n",
            "183\t5078.19\t5118.56\t4901.99\t5040.11\t2019-04-12\t9952.12636385\n",
            "184\t5041.3\t5342.74\t4967.24\t5322.02\t2019-04-11\t16499.10831947\n",
            "185\t5318.58\t5488\t5164.49\t5187.21\t2019-04-10\t16740.40012691\n",
            "186\t5187.21\t5287\t5145\t5286.82\t2019-04-09\t9741.06958958\n",
            "187\t5285.54\t5352.5\t5132.28\t5194.76\t2019-04-08\t15666.45276154\n",
            "188\t5194.79\t5270.33\t5029.7\t5049.18\t2019-04-07\t10156.6009031\n",
            "189\t5049.22\t5244.04\t4925\t5040.95\t2019-04-06\t12091.44129438\n",
            "190\t5040.66\t5066.59\t4887.34\t4907.92\t2019-04-05\t11681.37430365\n",
            "191\t4906.49\t5071.34\t4778\t4975.13\t2019-04-04\t16348.20012368\n",
            "192\t4975.97\t5345\t4787.11\t4901.92\t2019-04-03\t39435.72650644\n",
            "193\t4901.93\t5121\t4132.02\t4137.01\t2019-04-02\t38406.93211632\n",
            "194\t4137\t4149.5\t4051.53\t4095\t2019-04-01\t7951.26492707\n",
            "195\t4094.99\t4103\t4077.01\t4094.14\t2019-03-31\t3140.83701306\n",
            "196\t4094.14\t4131.87\t4042.51\t4091.01\t2019-03-30\t5262.21344691\n",
            "197\t4091.01\t4101.5\t4007.78\t4011.98\t2019-03-29\t9955.46857667\n",
            "198\t4011.17\t4026.54\t3994\t4026.54\t2019-03-28\t4867.33830466\n",
            "199\t4026.53\t4035.8\t3914.9\t3922.41\t2019-03-27\t6852.41006794\n",
            "200\t3921.45\t3923.9\t3880.64\t3907.54\t2019-03-26\t4279.07361049\n",
            "201\t3907.53\t3976.47\t3858\t3969.52\t2019-03-25\t6471.85662029\n",
            "202\t3969.52\t3982.45\t3946\t3982.45\t2019-03-24\t2699.83001403\n",
            "203\t3983.43\t3997.01\t3960.25\t3983.77\t2019-03-23\t4145.33997822\n",
            "204\t3983.78\t3998.01\t3961.7\t3972.76\t2019-03-22\t5137.20746387\n",
            "205\t3972.76\t4056.33\t3915.14\t4032.68\t2019-03-21\t9362.01127686\n",
            "206\t4031.85\t4044.82\t3965.43\t4000.85\t2019-03-20\t7321.39290672\n",
            "207\t4000.85\t4009.61\t3952.08\t3969.68\t2019-03-19\t5889.02569989\n",
            "208\t3970.5\t4015.7\t3937.69\t3967.01\t2019-03-18\t5613.64637341\n",
            "209\t3967.01\t3991\t3936.3\t3990\t2019-03-17\t3579.86643543\n",
            "210\t3990\t4037.47\t3900.89\t3902.8\t2019-03-16\t6801.89533817\n",
            "211\t3902.8\t3910\t3846.79\t3853.95\t2019-03-15\t6794.31389855\n",
            "212\t3853.95\t3900\t3779.28\t3851.02\t2019-03-14\t7895.18815498\n",
            "213\t3851.02\t3871.02\t3827.5\t3860\t2019-03-13\t5689.69622247\n",
            "214\t3860\t3875.33\t3796.71\t3849.67\t2019-03-12\t6921.17284956\n",
            "215\t3849.68\t3911.83\t3817.01\t3900.93\t2019-03-11\t6170.4651356\n",
            "216\t3900.92\t3917\t3867.84\t3917\t2019-03-10\t3602.23313878\n",
            "217\t3917\t3947.33\t3834.59\t3842.62\t2019-03-09\t5821.05637535\n",
            "218\t3843.12\t3910.88\t3771\t3857.04\t2019-03-08\t8988.38343108\n",
            "219\t3857.05\t3891\t3830.79\t3851.89\t2019-03-07\t7308.01574651\n",
            "220\t3851.89\t3894.7\t3812\t3844.59\t2019-03-06\t6911.18572899\n",
            "221\t3844.59\t3876.65\t3692.36\t3700.02\t2019-03-05\t9534.91911905\n",
            "222\t3700.72\t3804.99\t3672.39\t3786.93\t2019-03-04\t8335.76872427\n",
            "223\t3786.93\t3815.48\t3763.62\t3809.7\t2019-03-03\t4100.67673393\n",
            "224\t3809.7\t3818.08\t3763\t3806.17\t2019-03-02\t3720.64470762\n",
            "225\t3806.17\t3843\t3791.31\t3792.14\t2019-03-01\t6816.69897242\n",
            "226\t3792.14\t3910\t3754.37\t3800.35\t2019-02-28\t9852.47269969\n",
            "227\t3799.91\t3823.13\t3655\t3799.49\t2019-02-27\t8297.56906415\n",
            "228\t3799.48\t3826.37\t3763.71\t3818.78\t2019-02-26\t6520.29872931\n",
            "229\t3818.79\t3860\t3731.09\t3734.23\t2019-02-25\t11164.08173195\n",
            "230\t3734.22\t4188.79\t3712.84\t4110\t2019-02-24\t17002.16745501\n",
            "231\t4110\t4156.1\t3911.3\t3942.02\t2019-02-23\t10844.79746285\n",
            "232\t3942.02\t3956.43\t3886.15\t3897.71\t2019-02-22\t7667.21817378\n",
            "233\t3897.71\t3988\t3869.45\t3939\t2019-02-21\t8806.93272354\n",
            "234\t3938.99\t3967.19\t3867.13\t3888.37\t2019-02-20\t8929.2721525\n",
            "235\t3888.01\t3969.54\t3841.54\t3867\t2019-02-19\t14845.22658779\n",
            "236\t3867\t3917\t3616.18\t3625.08\t2019-02-18\t16895.18406274\n",
            "237\t3625.08\t3675\t3557.43\t3582.37\t2019-02-17\t6402.7929\n",
            "238\t3582.37\t3607.36\t3565.5\t3566.59\t2019-02-16\t4351.61748343\n",
            "239\t3566.59\t3620.22\t3545.89\t3561.49\t2019-02-15\t7447.04312687\n",
            "240\t3561.5\t3589\t3535.1\t3576.69\t2019-02-14\t6197.23550751\n",
            "241\t3576.68\t3627.99\t3562.98\t3588.06\t2019-02-13\t7024.94220353\n",
            "242\t3588.06\t3618.77\t3550\t3590.36\t2019-02-12\t8347.13611385\n",
            "243\t3590.36\t3652\t3579.38\t3648.85\t2019-02-11\t8819.26148262\n",
            "244\t3648.84\t3654.28\t3578.59\t3623.73\t2019-02-10\t5364.52948065\n",
            "245\t3623.73\t3644.08\t3597\t3622\t2019-02-09\t5155.45743968\n",
            "246\t3621.99\t3711\t3344\t3358.99\t2019-02-08\t17649.47598021\n",
            "247\t3359\t3383.14\t3352.01\t3366.01\t2019-02-07\t8613.79912675\n",
            "248\t3367.36\t3441\t3340.8\t3428.41\t2019-02-06\t9820.67219128\n",
            "249\t3428.4\t3429.46\t3400\t3409.57\t2019-02-05\t6385.43577243\n",
            "250\t3409.57\t3435\t3395.1\t3415.69\t2019-02-04\t6032.81895284\n",
            "251\t3414.78\t3471.76\t3386.45\t3468.43\t2019-02-03\t4606.56891409\n",
            "252\t3468.43\t3483.25\t3414.49\t3437.5\t2019-02-02\t3967.92350855\n",
            "253\t3437.5\t3458.26\t3369.62\t3411.5\t2019-02-01\t8806.60171078\n",
            "254\t3411.5\t3473.4\t3396.74\t3437.55\t2019-01-31\t7405.39614964\n",
            "255\t3437.55\t3459.41\t3372.97\t3395.74\t2019-01-30\t8513.95881185\n",
            "256\t3397.42\t3438.4\t3337.87\t3429.95\t2019-01-29\t8709.69730139\n",
            "257\t3429.95\t3535.92\t3374.01\t3531.02\t2019-01-28\t13775.65442083\n",
            "258\t3531.02\t3562.9\t3470.14\t3556.07\t2019-01-27\t4286.50898961\n",
            "259\t3556.07\t3657.76\t3540\t3562.17\t2019-01-26\t5602.74054612\n",
            "260\t3562.17\t3578.79\t3510.01\t3568.97\t2019-01-25\t6834.07115259\n",
            "261\t3568.97\t3595.83\t3530.1\t3553.01\t2019-01-24\t5827.07203747\n",
            "262\t3553.01\t3614.47\t3523.64\t3577.04\t2019-01-23\t8205.65630491\n",
            "263\t3577.03\t3611.5\t3425\t3531.75\t2019-01-22\t9658.63220705\n",
            "264\t3531.76\t3568.95\t3487.37\t3537.56\t2019-01-21\t6493.83265776\n",
            "265\t3536.19\t3703.39\t3481.01\t3683.5\t2019-01-20\t7430.51959727\n",
            "266\t3682.65\t3765.9\t3604.9\t3607.85\t2019-01-19\t6068.64620532\n",
            "267\t3607.85\t3643.69\t3580.16\t3640.64\t2019-01-18\t5977.23699338\n",
            "268\t3640.65\t3657\t3541\t3609.71\t2019-01-17\t8924.86466717\n",
            "269\t3609.71\t3666.73\t3572.52\t3580.19\t2019-01-16\t8894.45981244\n",
            "270\t3580.76\t3684.38\t3538.63\t3664.18\t2019-01-15\t10894.51487451\n",
            "271\t3664.19\t3711.11\t3509.24\t3514.24\t2019-01-14\t11241.43679748\n",
            "272\t3514.24\t3641.86\t3481.54\t3619.38\t2019-01-13\t8288.70074802\n",
            "273\t3619.41\t3649.18\t3557.29\t3634.73\t2019-01-12\t5793.59903748\n",
            "274\t3635.69\t3699.99\t3576\t3626.12\t2019-01-11\t14489.68866805\n",
            "275\t3626.12\t4035.21\t3560\t4004.13\t2019-01-10\t21869.18380217\n",
            "276\t4004.12\t4042.2\t3962.12\t3993.85\t2019-01-09\t10704.12810583\n",
            "277\t3993.86\t4114.8\t3943.36\t4005.97\t2019-01-08\t13959.39645383\n",
            "278\t4006.01\t4070\t3968.79\t4040.98\t2019-01-07\t9973.66538481\n",
            "279\t4040.99\t4088\t3756.01\t3799.99\t2019-01-06\t10057.45367318\n",
            "280\t3798.62\t3874.12\t3775\t3820.82\t2019-01-05\t6451.00775001\n",
            "281\t3820.82\t3849\t3730\t3787.57\t2019-01-04\t9225.1505004\n",
            "282\t3787.57\t3893.8\t3758.07\t3890.8\t2019-01-03\t9327.64708895\n",
            "283\t3890.79\t3916.57\t3770.07\t3826.1\t2019-01-02\t9982.47084577\n",
            "284\t3826.1\t3841.17\t3651.02\t3691.87\t2019-01-01\t10812.88498825\n",
            "285\t3691.86\t3835.4\t3625\t3829\t2018-12-31\t12799.94262556\n",
            "286\t3829\t3863.06\t3691.01\t3729.31\t2018-12-30\t8725.83851536\n",
            "287\t3729.31\t3944.33\t3706\t3887.58\t2018-12-29\t9781.01832186\n",
            "288\t3888.06\t3971.58\t3576.12\t3589.89\t2018-12-28\t16776.66567306\n",
            "289\t3589.89\t3841.21\t3567\t3809.88\t2018-12-27\t13433.23545408\n",
            "290\t3809.88\t3849.2\t3685.02\t3780\t2018-12-26\t9409.62555727\n",
            "291\t3780\t4045.41\t3675.86\t4034\t2018-12-25\t13871.75447137\n",
            "292\t4034\t4239.37\t3944.92\t3944.92\t2018-12-24\t19713.64189269\n",
            "293\t3944.93\t4050\t3903.6\t3981.24\t2018-12-23\t10282.4571108\n",
            "294\t3980.46\t4005\t3790.16\t3839.26\t2018-12-22\t9902.76761597\n",
            "295\t3839.06\t4162.27\t3775\t4075.33\t2018-12-21\t23496.86262526\n",
            "296\t4075.34\t4175\t3661.5\t3682.51\t2018-12-20\t30698.00488972\n",
            "297\t3682.51\t3928.15\t3637.17\t3667.76\t2018-12-19\t28456.24369309\n",
            "298\t3667.77\t3688\t3436.5\t3497.1\t2018-12-18\t16980.16942551\n",
            "299\t3496.82\t3585.95\t3184.28\t3194.99\t2018-12-17\t21857.11842817\n",
            "\n"
          ],
          "name": "stdout"
        }
      ]
    }
  ]
}