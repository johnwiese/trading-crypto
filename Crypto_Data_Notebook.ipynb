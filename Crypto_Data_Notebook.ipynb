{
  "nbformat": 4,
  "nbformat_minor": 0,
  "metadata": {
    "colab": {
      "name": "Crypto Data Notebook.ipynb",
      "provenance": [],
      "include_colab_link": true
    },
    "kernelspec": {
      "name": "python3",
      "display_name": "Python 3"
    }
  },
  "cells": [
    {
      "cell_type": "markdown",
      "metadata": {
        "id": "view-in-github",
        "colab_type": "text"
      },
      "source": [
        "<a href=\"https://colab.research.google.com/github/johnwiese/trading-crypto/blob/master/Crypto_Data_Notebook.ipynb\" target=\"_parent\"><img src=\"https://colab.research.google.com/assets/colab-badge.svg\" alt=\"Open In Colab\"/></a>"
      ]
    },
    {
      "cell_type": "markdown",
      "metadata": {
        "id": "vK0oJajk7W1T",
        "colab_type": "text"
      },
      "source": [
        "###Tools for Bitcoin data and simple fractal moving averages for entries and exits"
      ]
    },
    {
      "cell_type": "markdown",
      "metadata": {
        "id": "-O1NTiPU6EZA",
        "colab_type": "text"
      },
      "source": [
        "Convert to tsv use  DataFrame.to_tsv() in pandas"
      ]
    },
    {
      "cell_type": "code",
      "metadata": {
        "id": "o7z0m4Qy8IIu",
        "colab_type": "code",
        "outputId": "c5fb164e-d558-4f0d-d46e-2daaa142f8a8",
        "colab": {
          "base_uri": "https://localhost:8080/",
          "height": 190
        }
      },
      "source": [
        "import numpy as np       # Data formating\n",
        "import pandas as pd\n",
        "import matplotlib.pyplot as plt\n",
        "import random\n",
        "import os\n",
        "import os.path\n",
        "from os import path\n",
        "import datetime\n",
        "from datetime import date\n",
        "import itertools\n",
        "from pandas.io.json import json_normalize\n",
        "!pip install coinbasepro\n",
        "from csv import reader\n",
        "from io import StringIO\n",
        "import io"
      ],
      "execution_count": 2,
      "outputs": [
        {
          "output_type": "stream",
          "text": [
            "Collecting coinbasepro\n",
            "  Downloading https://files.pythonhosted.org/packages/ad/da/dd8866f53bdb457451452fb3dadb691d65d4e8fef0d4e358591af6442fa2/coinbasepro-0.1.1-py3-none-any.whl\n",
            "Requirement already satisfied: requests>=2.20.0 in /usr/local/lib/python3.6/dist-packages (from coinbasepro) (2.21.0)\n",
            "Requirement already satisfied: certifi>=2017.4.17 in /usr/local/lib/python3.6/dist-packages (from requests>=2.20.0->coinbasepro) (2019.9.11)\n",
            "Requirement already satisfied: chardet<3.1.0,>=3.0.2 in /usr/local/lib/python3.6/dist-packages (from requests>=2.20.0->coinbasepro) (3.0.4)\n",
            "Requirement already satisfied: urllib3<1.25,>=1.21.1 in /usr/local/lib/python3.6/dist-packages (from requests>=2.20.0->coinbasepro) (1.24.3)\n",
            "Requirement already satisfied: idna<2.9,>=2.5 in /usr/local/lib/python3.6/dist-packages (from requests>=2.20.0->coinbasepro) (2.8)\n",
            "Installing collected packages: coinbasepro\n",
            "Successfully installed coinbasepro-0.1.1\n"
          ],
          "name": "stdout"
        }
      ]
    },
    {
      "cell_type": "markdown",
      "metadata": {
        "id": "LcflV0RVwA7b",
        "colab_type": "text"
      },
      "source": [
        "# Tools for getting data for Bitcoin\n",
        "\n",
        "\n",
        "1.   Load historic data files\n",
        "2.   Get live hourly data from Coinbase Pro API\n",
        "3.   Convert to JSON https://datatofish.com/export-pandas-dataframe-json/\n",
        "\n"
      ]
    },
    {
      "cell_type": "code",
      "metadata": {
        "id": "Uu1jt4hNUygQ",
        "colab_type": "code",
        "outputId": "140712c9-f255-4767-86c4-78a924b44fcb",
        "colab": {
          "base_uri": "https://localhost:8080/",
          "height": 425
        }
      },
      "source": [
        "from google.colab import drive\n",
        "drive.mount('/content/drive')\n",
        "\n",
        "!pwd\n",
        "!ls -al\n",
        "\n",
        "%cd \"./drive/My Drive/ML/assets/\"\n",
        "!ls -al\n",
        "   \n",
        "\n"
      ],
      "execution_count": 4,
      "outputs": [
        {
          "output_type": "stream",
          "text": [
            "Drive already mounted at /content/drive; to attempt to forcibly remount, call drive.mount(\"/content/drive\", force_remount=True).\n",
            "/content/drive/My Drive/ML/assets\n",
            "total 8348\n",
            "-rw------- 1 root root     151 Oct 10 00:25  Bitfinex_BTCUSD_d.csv.gsheet\n",
            "-rw------- 1 root root 1424089 Oct 10 01:55 'Coinbase_BTCUSD_1h (1).csv'\n",
            "-rw------- 1 root root 1424089 Oct 10 01:56 'Coinbase_BTCUSD_1h (2).csv'\n",
            "-rw------- 1 root root 1424089 Oct 10 01:59 'Coinbase_BTCUSD_1h (3).csv'\n",
            "-rw------- 1 root root 1424089 Oct 10 02:02 'Coinbase_BTCUSD_1h (4).csv'\n",
            "-rw------- 1 root root 1424089 Oct 10 02:03 'Coinbase_BTCUSD_1h (5).csv'\n",
            "-rw------- 1 root root 1424089 Oct 10 01:53  Coinbase_BTCUSD_1h.csv\n",
            "-rw------- 1 root root     151 Oct 10 00:25  Coinbase_BTCUSD_1h.csv.gsheet\n",
            "-rw------- 1 root root     151 Oct 10 17:32  Coinbase_BTCUSD_d.csv.gsheet\n",
            "[Errno 2] No such file or directory: './drive/My Drive/ML/assets/'\n",
            "/content/drive/My Drive/ML/assets\n",
            "total 8348\n",
            "-rw------- 1 root root     151 Oct 10 00:25  Bitfinex_BTCUSD_d.csv.gsheet\n",
            "-rw------- 1 root root 1424089 Oct 10 01:55 'Coinbase_BTCUSD_1h (1).csv'\n",
            "-rw------- 1 root root 1424089 Oct 10 01:56 'Coinbase_BTCUSD_1h (2).csv'\n",
            "-rw------- 1 root root 1424089 Oct 10 01:59 'Coinbase_BTCUSD_1h (3).csv'\n",
            "-rw------- 1 root root 1424089 Oct 10 02:02 'Coinbase_BTCUSD_1h (4).csv'\n",
            "-rw------- 1 root root 1424089 Oct 10 02:03 'Coinbase_BTCUSD_1h (5).csv'\n",
            "-rw------- 1 root root 1424089 Oct 10 01:53  Coinbase_BTCUSD_1h.csv\n",
            "-rw------- 1 root root     151 Oct 10 00:25  Coinbase_BTCUSD_1h.csv.gsheet\n",
            "-rw------- 1 root root     151 Oct 10 17:32  Coinbase_BTCUSD_d.csv.gsheet\n"
          ],
          "name": "stdout"
        }
      ]
    },
    {
      "cell_type": "code",
      "metadata": {
        "id": "xVcBh5Cde_B4",
        "colab_type": "code",
        "colab": {}
      },
      "source": [
        "!pip install --upgrade --quiet gspread"
      ],
      "execution_count": 0,
      "outputs": []
    },
    {
      "cell_type": "code",
      "metadata": {
        "id": "vQUh8Pr0fIvu",
        "colab_type": "code",
        "colab": {}
      },
      "source": [
        "from google.colab import auth\n",
        "auth.authenticate_user()\n",
        "\n",
        "import gspread\n",
        "from oauth2client.client import GoogleCredentials\n",
        "\n",
        "gc = gspread.authorize(GoogleCredentials.get_application_default())"
      ],
      "execution_count": 0,
      "outputs": []
    },
    {
      "cell_type": "markdown",
      "metadata": {
        "id": "YUwEb8qctGYY",
        "colab_type": "text"
      },
      "source": [
        "**Get historic data from two sources**\n",
        "  bitfinex \n",
        "    Has only day data but a lot starting back in 2015-02-09\n",
        "  coinbase historic\n",
        "    Has hourly data\n",
        "Get real live hourly data from Coinbase using the Coinbase Pro API\n",
        "  Read coinbase from the last point of last of the historic data\n",
        "\n",
        "**Plan for charts **\n",
        "  Load the bitinex daily data\n",
        "  From the first hourly historic data from coinbase merge both historic data from bitfinx and coinbase historic data\n",
        "  Note: Convert Coinbase to day data bars. One bar starts the 24 day bare from GTC midnight to the next GTC zero hour\n",
        "\n",
        "Once the historic data is merged into one for display then start getting new hourly data from Coinbase every hour and then convert to daily bars\n"
      ]
    },
    {
      "cell_type": "code",
      "metadata": {
        "id": "uxqMvap9fsE5",
        "colab_type": "code",
        "colab": {}
      },
      "source": [
        "# Get historic data from bitfinex and coinbase\n",
        "# bitfinex has a lot of day data\n",
        "\n",
        "bitfinex_btcusd_file = 'Bitfinex_BTCUSD_d.csv'\n",
        "coinbase_btcusd_file = 'Coinbase_BTCUSD_d.cvs'  # 'Coinbase_BTCUSD_1h.csv'\n",
        "base_path = '/content/drive/My Drive/ML/assets'\n",
        "\n",
        "bitfinex_btcusd_path = os.path.join(base_path,bitfinex_btcusd_file)"
      ],
      "execution_count": 0,
      "outputs": []
    },
    {
      "cell_type": "code",
      "metadata": {
        "id": "bIo8CV3tfQ9q",
        "colab_type": "code",
        "colab": {}
      },
      "source": [
        "# get dataframes\n",
        "# get bitfinex\n",
        "worksheet_bitfinex = gc.open(bitfinex_btcusd_file).sheet1\n",
        "# get_all_values gives a list of rows.\n",
        "rows_bitfinex = worksheet_bitfinex.get_all_values()\n",
        "df_bitfinex = pd.DataFrame.from_records(rows_bitfinex)\n",
        "\n",
        "\n"
      ],
      "execution_count": 0,
      "outputs": []
    },
    {
      "cell_type": "code",
      "metadata": {
        "id": "f4BVvOSs3U5E",
        "colab_type": "code",
        "colab": {
          "base_uri": "https://localhost:8080/",
          "height": 221
        },
        "outputId": "8498637b-9d81-4b2f-89ba-24e1f06ee799"
      },
      "source": [
        "!pwd\n",
        "!ls -al\n",
        "print(os.path.exists(\"Coinbase_BTCUSD_d.csv.gsheet\"))\n",
        "# get coinbase\n",
        "worksheet_coinbase = gc.open(\"Coinbase_BTCUSD_d.csv\").sheet1\n",
        "# get_all_values gives a list of rows.\n",
        "rows_coinbase = worksheet_coinbase.get_all_values()\n",
        "df_coinbase = pd.DataFrame.from_records(rows_coinbase)"
      ],
      "execution_count": 9,
      "outputs": [
        {
          "output_type": "stream",
          "text": [
            "/content/drive/My Drive/ML/assets\n",
            "total 8348\n",
            "-rw------- 1 root root     151 Oct 10 00:25  Bitfinex_BTCUSD_d.csv.gsheet\n",
            "-rw------- 1 root root 1424089 Oct 10 01:55 'Coinbase_BTCUSD_1h (1).csv'\n",
            "-rw------- 1 root root 1424089 Oct 10 01:56 'Coinbase_BTCUSD_1h (2).csv'\n",
            "-rw------- 1 root root 1424089 Oct 10 01:59 'Coinbase_BTCUSD_1h (3).csv'\n",
            "-rw------- 1 root root 1424089 Oct 10 02:02 'Coinbase_BTCUSD_1h (4).csv'\n",
            "-rw------- 1 root root 1424089 Oct 10 02:03 'Coinbase_BTCUSD_1h (5).csv'\n",
            "-rw------- 1 root root 1424089 Oct 10 01:53  Coinbase_BTCUSD_1h.csv\n",
            "-rw------- 1 root root     151 Oct 10 00:25  Coinbase_BTCUSD_1h.csv.gsheet\n",
            "-rw------- 1 root root     151 Oct 10 17:32  Coinbase_BTCUSD_d.csv.gsheet\n",
            "True\n"
          ],
          "name": "stdout"
        }
      ]
    },
    {
      "cell_type": "code",
      "metadata": {
        "id": "qVOm5Qvqi_QZ",
        "colab_type": "code",
        "colab": {
          "base_uri": "https://localhost:8080/",
          "height": 1000
        },
        "outputId": "96b1e75d-967c-4853-825c-587eeb030948"
      },
      "source": [
        "print(df_bitfinex)"
      ],
      "execution_count": 10,
      "outputs": [
        {
          "output_type": "stream",
          "text": [
            "               0       1         2  ...         5           6            7\n",
            "0           Date  Symbol      Open  ...     Close  Volume BTC   Volume USD\n",
            "1     2019-10-08  BTCUSD      8227  ...   8205.14     1584.55  13097499.82\n",
            "2     2019-10-07  BTCUSD    7882.9  ...      8227     8149.21  66182672.83\n",
            "3     2019-10-06  BTCUSD    8162.5  ...    7882.9     5857.54  46641948.11\n",
            "4     2019-10-05  BTCUSD      8170  ...    8162.5     3327.26  27021471.49\n",
            "5     2019-10-04  BTCUSD      8258  ...      8170     3051.67   24946287.9\n",
            "6     2019-10-03  BTCUSD   8414.88  ...      8258     3716.19  30623737.96\n",
            "7     2019-10-02  BTCUSD    8334.9  ...   8414.88     3448.52  28570950.97\n",
            "8     2019-10-01  BTCUSD   8331.14  ...    8334.9      5835.9  49049132.41\n",
            "9     2019-09-30  BTCUSD      8090  ...   8331.14    10919.75  87839295.32\n",
            "10    2019-09-29  BTCUSD    8238.2  ...      8090     6143.56  49454030.63\n",
            "11    2019-09-28  BTCUSD    8213.4  ...    8238.2     5447.13  44602497.95\n",
            "12    2019-09-27  BTCUSD    8105.9  ...    8213.4     7469.15  60208646.12\n",
            "13    2019-09-26  BTCUSD    8475.3  ...    8105.9    15408.93  125180468.7\n",
            "14    2019-09-25  BTCUSD    8538.7  ...    8475.3    12765.89  108207657.4\n",
            "15    2019-09-24  BTCUSD    9702.6  ...    8538.7     34867.7    307985234\n",
            "16    2019-09-23  BTCUSD     10055  ...    9702.6     5486.04  53969510.57\n",
            "17    2019-09-22  BTCUSD     10013  ...     10055     2752.45  27523592.55\n",
            "18    2019-09-21  BTCUSD     10197  ...     10013     2979.88  29943816.81\n",
            "19    2019-09-20  BTCUSD     10301  ...     10197      2513.7   25660191.4\n",
            "20    2019-09-19  BTCUSD     10185  ...     10301     9766.07  97965321.95\n",
            "21    2019-09-18  BTCUSD  10214.86  ...     10185     3339.09  34080717.87\n",
            "22    2019-09-17  BTCUSD     10290  ...  10214.86     2944.28  30156486.97\n",
            "23    2019-09-16  BTCUSD  10321.42  ...     10290     5515.26  56380470.07\n",
            "24    2019-09-15  BTCUSD     10380  ...  10321.42     1885.62  19486372.51\n",
            "25    2019-09-14  BTCUSD     10374  ...     10380     3155.79  32801466.46\n",
            "26    2019-09-13  BTCUSD     10452  ...     10374     4501.19  46417698.48\n",
            "27    2019-09-12  BTCUSD     10175  ...     10452     4401.51   45313964.9\n",
            "28    2019-09-11  BTCUSD     10121  ...     10175     4348.62  43782091.22\n",
            "29    2019-09-10  BTCUSD     10317  ...     10121     4211.66  42722054.03\n",
            "...          ...     ...       ...  ...       ...         ...          ...\n",
            "1662  2015-03-10  BTCUSD     291.2  ...    292.62    66533.18   19689801.8\n",
            "1663  2015-03-09  BTCUSD    275.23  ...     291.2    62709.27  17935918.08\n",
            "1664  2015-03-08  BTCUSD    275.95  ...    275.23    14729.83   4059996.89\n",
            "1665  2015-03-07  BTCUSD    273.89  ...    275.95    22095.92    6096102.1\n",
            "1666  2015-03-06  BTCUSD    278.51  ...    273.89    40490.63  11083898.02\n",
            "1667  2015-03-05  BTCUSD    273.74  ...    278.51    67235.69  18281541.95\n",
            "1668  2015-03-04  BTCUSD     283.2  ...    273.74    71328.67  19833718.19\n",
            "1669  2015-03-03  BTCUSD     277.3  ...     283.2    75940.04  21157890.72\n",
            "1670  2015-03-02  BTCUSD    262.47  ...    275.99    35351.14   9448438.14\n",
            "1671  2015-03-01  BTCUSD     255.7  ...    261.15    24361.06   6156716.71\n",
            "1672  2015-02-28  BTCUSD    255.05  ...    255.77    10695.34   2721373.29\n",
            "1673  2015-02-27  BTCUSD       237  ...     256.4    69269.58  17536633.13\n",
            "1674  2015-02-26  BTCUSD       238  ...       237    18691.43   4418655.89\n",
            "1675  2015-02-25  BTCUSD    239.68  ...       238     13574.5   3230232.16\n",
            "1676  2015-02-24  BTCUSD    239.73  ...    239.68    16784.31   4013461.44\n",
            "1677  2015-02-23  BTCUSD    236.59  ...    239.73    23893.09   5666261.84\n",
            "1678  2015-02-22  BTCUSD     245.1  ...    236.59     33394.5   7971863.56\n",
            "1679  2015-02-21  BTCUSD    245.53  ...     245.1    16514.04   4052466.26\n",
            "1680  2015-02-20  BTCUSD     241.9  ...    245.53    33337.97   8136342.67\n",
            "1681  2015-02-19  BTCUSD     234.8  ...     241.9    22792.55   5446200.04\n",
            "1682  2015-02-18  BTCUSD    242.87  ...     234.8    38588.38   9164141.83\n",
            "1683  2015-02-17  BTCUSD    236.78  ...    242.87    42669.08  10228035.45\n",
            "1684  2015-02-16  BTCUSD    234.14  ...    236.78    45750.85  10798751.12\n",
            "1685  2015-02-15  BTCUSD       257  ...    234.14    71361.28   17384420.7\n",
            "1686  2015-02-14  BTCUSD    236.13  ...    258.12    42984.94  10739014.48\n",
            "1687  2015-02-13  BTCUSD    222.39  ...       236    29079.11   6806972.89\n",
            "1688  2015-02-12  BTCUSD    219.19  ...     222.6    11190.65   2468883.37\n",
            "1689  2015-02-11  BTCUSD    220.96  ...    219.19    19289.28   4268986.79\n",
            "1690  2015-02-10  BTCUSD    220.61  ...    220.96    29268.95   6402350.57\n",
            "1691  2015-02-09  BTCUSD    224.22  ...    220.61    29625.03   6493501.42\n",
            "\n",
            "[1692 rows x 8 columns]\n"
          ],
          "name": "stdout"
        }
      ]
    },
    {
      "cell_type": "code",
      "metadata": {
        "id": "tHOtV0qCi-6I",
        "colab_type": "code",
        "colab": {
          "base_uri": "https://localhost:8080/",
          "height": 1000
        },
        "outputId": "e9ae8373-ef7c-4716-c448-9d0474f75b78"
      },
      "source": [
        "print(df_coinbase)"
      ],
      "execution_count": 11,
      "outputs": [
        {
          "output_type": "stream",
          "text": [
            "               0       1         2  ...         5           6            7\n",
            "0           Date  Symbol      Open  ...     Close  Volume BTC   Volume USD\n",
            "1     2019-10-08  BTCUSD      8209  ...   8216.39        2329  19198358.02\n",
            "2     2019-10-07  BTCUSD   7859.79  ...      8209     9969.38  80691163.82\n",
            "3     2019-10-06  BTCUSD   8147.63  ...   7859.79     7770.16  61753052.16\n",
            "4     2019-10-05  BTCUSD   8156.67  ...   8147.63     3809.86  30873507.65\n",
            "5     2019-10-04  BTCUSD   8240.41  ...   8156.67     7620.06   62078561.3\n",
            "6     2019-10-03  BTCUSD   8381.72  ...   8240.41     7550.73  62037926.73\n",
            "7     2019-10-02  BTCUSD   8321.52  ...   8381.72     7006.37  57883644.17\n",
            "8     2019-10-01  BTCUSD   8304.96  ...   8321.52     12133.1  101594010.6\n",
            "9     2019-09-30  BTCUSD    8052.4  ...   8304.96    14235.43  114990553.1\n",
            "10    2019-09-29  BTCUSD   8217.47  ...    8052.4     6911.51  55634607.52\n",
            "11    2019-09-28  BTCUSD   8193.99  ...   8217.47     8846.18  72162358.51\n",
            "12    2019-09-27  BTCUSD      8060  ...   8193.99    15793.45  127240779.1\n",
            "13    2019-09-26  BTCUSD   8438.35  ...      8060    25063.02    202894604\n",
            "14    2019-09-25  BTCUSD   8530.01  ...   8438.35    23161.99    195698352\n",
            "15    2019-09-24  BTCUSD   9693.74  ...   8530.01    31693.09  282987748.5\n",
            "16    2019-09-23  BTCUSD   10026.8  ...   9693.74    10409.03  102332904.4\n",
            "17    2019-09-22  BTCUSD   9973.99  ...   10026.8     5113.54  51003517.74\n",
            "18    2019-09-21  BTCUSD  10168.85  ...   9973.99     4829.81  48372943.24\n",
            "19    2019-09-20  BTCUSD  10275.01  ...  10168.85     6147.42   62522073.7\n",
            "20    2019-09-19  BTCUSD  10155.26  ...  10275.01    13548.83  134927397.8\n",
            "21    2019-09-18  BTCUSD  10185.39  ...  10155.26     5564.14  56681450.55\n",
            "22    2019-09-17  BTCUSD  10262.54  ...  10185.39     5710.49  58364825.36\n",
            "23    2019-09-16  BTCUSD  10304.46  ...  10262.54     7384.74  75476404.07\n",
            "24    2019-09-15  BTCUSD  10360.25  ...  10304.46     2735.17  28202179.16\n",
            "25    2019-09-14  BTCUSD  10365.93  ...  10360.25     4413.03   45673649.1\n",
            "26    2019-09-13  BTCUSD  10423.72  ...  10365.93     6799.62  70031660.47\n",
            "27    2019-09-12  BTCUSD   10160.2  ...  10423.72     7569.29  77805911.82\n",
            "28    2019-09-11  BTCUSD  10093.01  ...   10160.2     7694.14  77391519.96\n",
            "29    2019-09-10  BTCUSD     10310  ...  10093.01     7620.05  77363574.82\n",
            "...          ...     ...       ...  ...       ...         ...          ...\n",
            "1732  2014-12-30  BTCUSD       340  ...       340           0            0\n",
            "1733  2014-12-29  BTCUSD       340  ...       340           0            0\n",
            "1734  2014-12-28  BTCUSD       340  ...       340           0            0\n",
            "1735  2014-12-27  BTCUSD       340  ...       340           0            0\n",
            "1736  2014-12-26  BTCUSD       340  ...       340           0            0\n",
            "1737  2014-12-25  BTCUSD       340  ...       340           0            0\n",
            "1738  2014-12-24  BTCUSD       340  ...       340           0            0\n",
            "1739  2014-12-23  BTCUSD       340  ...       340           0            0\n",
            "1740  2014-12-22  BTCUSD       340  ...       340           0            0\n",
            "1741  2014-12-21  BTCUSD       340  ...       340           0            0\n",
            "1742  2014-12-20  BTCUSD       340  ...       340           0            0\n",
            "1743  2014-12-19  BTCUSD       340  ...       340           0            0\n",
            "1744  2014-12-18  BTCUSD       350  ...       340           2          685\n",
            "1745  2014-12-17  BTCUSD       350  ...       350           0            0\n",
            "1746  2014-12-16  BTCUSD       350  ...       350           0            0\n",
            "1747  2014-12-15  BTCUSD       350  ...       350           0            0\n",
            "1748  2014-12-14  BTCUSD       350  ...       350           0            0\n",
            "1749  2014-12-13  BTCUSD       350  ...       350           0            0\n",
            "1750  2014-12-12  BTCUSD     360.5  ...       350        3.15      1115.49\n",
            "1751  2014-12-11  BTCUSD     360.5  ...     360.5           0            0\n",
            "1752  2014-12-10  BTCUSD       375  ...     360.5        0.02         7.59\n",
            "1753  2014-12-09  BTCUSD       375  ...       375           0            0\n",
            "1754  2014-12-08  BTCUSD       378  ...       375       0.235        88.13\n",
            "1755  2014-12-07  BTCUSD       378  ...       378           0            0\n",
            "1756  2014-12-06  BTCUSD     377.1  ...       378       0.015         5.67\n",
            "1757  2014-12-05  BTCUSD     377.1  ...     377.1           0            0\n",
            "1758  2014-12-04  BTCUSD       378  ...     377.1        0.01         3.77\n",
            "1759  2014-12-03  BTCUSD       378  ...       378      0.5466       206.52\n",
            "1760  2014-12-02  BTCUSD       370  ...       378       15.01      5675.07\n",
            "1761  2014-12-01  BTCUSD       300  ...       370     0.05656        19.53\n",
            "\n",
            "[1762 rows x 8 columns]\n"
          ],
          "name": "stdout"
        }
      ]
    },
    {
      "cell_type": "code",
      "metadata": {
        "id": "OexdtmnonWqD",
        "colab_type": "code",
        "colab": {}
      },
      "source": [
        "# Reverse the rows in the dataframe from oldest values to newest valude\n",
        "df_coinbase_reverse = df_coinbase\n",
        "\n",
        "df_coinbase_reverse = df_coinbase_reverse.iloc[::-1]\n",
        "\n",
        "df_bitfinex_reverse = df_bitfinex.iloc[::-1]"
      ],
      "execution_count": 0,
      "outputs": []
    },
    {
      "cell_type": "code",
      "metadata": {
        "id": "6JaqWosIrf3k",
        "colab_type": "code",
        "colab": {
          "base_uri": "https://localhost:8080/",
          "height": 1000
        },
        "outputId": "e3bd1a5d-299d-4737-ae59-e184beb27250"
      },
      "source": [
        "# print reversed coinbase\n",
        "print(df_coinbase_reverse)"
      ],
      "execution_count": 13,
      "outputs": [
        {
          "output_type": "stream",
          "text": [
            "               0       1         2  ...         5           6            7\n",
            "1761  2014-12-01  BTCUSD       300  ...       370     0.05656        19.53\n",
            "1760  2014-12-02  BTCUSD       370  ...       378       15.01      5675.07\n",
            "1759  2014-12-03  BTCUSD       378  ...       378      0.5466       206.52\n",
            "1758  2014-12-04  BTCUSD       378  ...     377.1        0.01         3.77\n",
            "1757  2014-12-05  BTCUSD     377.1  ...     377.1           0            0\n",
            "1756  2014-12-06  BTCUSD     377.1  ...       378       0.015         5.67\n",
            "1755  2014-12-07  BTCUSD       378  ...       378           0            0\n",
            "1754  2014-12-08  BTCUSD       378  ...       375       0.235        88.13\n",
            "1753  2014-12-09  BTCUSD       375  ...       375           0            0\n",
            "1752  2014-12-10  BTCUSD       375  ...     360.5        0.02         7.59\n",
            "1751  2014-12-11  BTCUSD     360.5  ...     360.5           0            0\n",
            "1750  2014-12-12  BTCUSD     360.5  ...       350        3.15      1115.49\n",
            "1749  2014-12-13  BTCUSD       350  ...       350           0            0\n",
            "1748  2014-12-14  BTCUSD       350  ...       350           0            0\n",
            "1747  2014-12-15  BTCUSD       350  ...       350           0            0\n",
            "1746  2014-12-16  BTCUSD       350  ...       350           0            0\n",
            "1745  2014-12-17  BTCUSD       350  ...       350           0            0\n",
            "1744  2014-12-18  BTCUSD       350  ...       340           2          685\n",
            "1743  2014-12-19  BTCUSD       340  ...       340           0            0\n",
            "1742  2014-12-20  BTCUSD       340  ...       340           0            0\n",
            "1741  2014-12-21  BTCUSD       340  ...       340           0            0\n",
            "1740  2014-12-22  BTCUSD       340  ...       340           0            0\n",
            "1739  2014-12-23  BTCUSD       340  ...       340           0            0\n",
            "1738  2014-12-24  BTCUSD       340  ...       340           0            0\n",
            "1737  2014-12-25  BTCUSD       340  ...       340           0            0\n",
            "1736  2014-12-26  BTCUSD       340  ...       340           0            0\n",
            "1735  2014-12-27  BTCUSD       340  ...       340           0            0\n",
            "1734  2014-12-28  BTCUSD       340  ...       340           0            0\n",
            "1733  2014-12-29  BTCUSD       340  ...       340           0            0\n",
            "1732  2014-12-30  BTCUSD       340  ...       340           0            0\n",
            "...          ...     ...       ...  ...       ...         ...          ...\n",
            "29    2019-09-10  BTCUSD     10310  ...  10093.01     7620.05  77363574.82\n",
            "28    2019-09-11  BTCUSD  10093.01  ...   10160.2     7694.14  77391519.96\n",
            "27    2019-09-12  BTCUSD   10160.2  ...  10423.72     7569.29  77805911.82\n",
            "26    2019-09-13  BTCUSD  10423.72  ...  10365.93     6799.62  70031660.47\n",
            "25    2019-09-14  BTCUSD  10365.93  ...  10360.25     4413.03   45673649.1\n",
            "24    2019-09-15  BTCUSD  10360.25  ...  10304.46     2735.17  28202179.16\n",
            "23    2019-09-16  BTCUSD  10304.46  ...  10262.54     7384.74  75476404.07\n",
            "22    2019-09-17  BTCUSD  10262.54  ...  10185.39     5710.49  58364825.36\n",
            "21    2019-09-18  BTCUSD  10185.39  ...  10155.26     5564.14  56681450.55\n",
            "20    2019-09-19  BTCUSD  10155.26  ...  10275.01    13548.83  134927397.8\n",
            "19    2019-09-20  BTCUSD  10275.01  ...  10168.85     6147.42   62522073.7\n",
            "18    2019-09-21  BTCUSD  10168.85  ...   9973.99     4829.81  48372943.24\n",
            "17    2019-09-22  BTCUSD   9973.99  ...   10026.8     5113.54  51003517.74\n",
            "16    2019-09-23  BTCUSD   10026.8  ...   9693.74    10409.03  102332904.4\n",
            "15    2019-09-24  BTCUSD   9693.74  ...   8530.01    31693.09  282987748.5\n",
            "14    2019-09-25  BTCUSD   8530.01  ...   8438.35    23161.99    195698352\n",
            "13    2019-09-26  BTCUSD   8438.35  ...      8060    25063.02    202894604\n",
            "12    2019-09-27  BTCUSD      8060  ...   8193.99    15793.45  127240779.1\n",
            "11    2019-09-28  BTCUSD   8193.99  ...   8217.47     8846.18  72162358.51\n",
            "10    2019-09-29  BTCUSD   8217.47  ...    8052.4     6911.51  55634607.52\n",
            "9     2019-09-30  BTCUSD    8052.4  ...   8304.96    14235.43  114990553.1\n",
            "8     2019-10-01  BTCUSD   8304.96  ...   8321.52     12133.1  101594010.6\n",
            "7     2019-10-02  BTCUSD   8321.52  ...   8381.72     7006.37  57883644.17\n",
            "6     2019-10-03  BTCUSD   8381.72  ...   8240.41     7550.73  62037926.73\n",
            "5     2019-10-04  BTCUSD   8240.41  ...   8156.67     7620.06   62078561.3\n",
            "4     2019-10-05  BTCUSD   8156.67  ...   8147.63     3809.86  30873507.65\n",
            "3     2019-10-06  BTCUSD   8147.63  ...   7859.79     7770.16  61753052.16\n",
            "2     2019-10-07  BTCUSD   7859.79  ...      8209     9969.38  80691163.82\n",
            "1     2019-10-08  BTCUSD      8209  ...   8216.39        2329  19198358.02\n",
            "0           Date  Symbol      Open  ...     Close  Volume BTC   Volume USD\n",
            "\n",
            "[1762 rows x 8 columns]\n"
          ],
          "name": "stdout"
        }
      ]
    },
    {
      "cell_type": "code",
      "metadata": {
        "id": "WCr9dakQrwi5",
        "colab_type": "code",
        "colab": {
          "base_uri": "https://localhost:8080/",
          "height": 1000
        },
        "outputId": "55b37a09-9b3e-4e15-9d5c-98f4ddaa28ec"
      },
      "source": [
        "# print reversed bitfinex\n",
        "print(df_bitfinex_reverse)"
      ],
      "execution_count": 14,
      "outputs": [
        {
          "output_type": "stream",
          "text": [
            "               0       1         2  ...         5           6            7\n",
            "1691  2015-02-09  BTCUSD    224.22  ...    220.61    29625.03   6493501.42\n",
            "1690  2015-02-10  BTCUSD    220.61  ...    220.96    29268.95   6402350.57\n",
            "1689  2015-02-11  BTCUSD    220.96  ...    219.19    19289.28   4268986.79\n",
            "1688  2015-02-12  BTCUSD    219.19  ...     222.6    11190.65   2468883.37\n",
            "1687  2015-02-13  BTCUSD    222.39  ...       236    29079.11   6806972.89\n",
            "1686  2015-02-14  BTCUSD    236.13  ...    258.12    42984.94  10739014.48\n",
            "1685  2015-02-15  BTCUSD       257  ...    234.14    71361.28   17384420.7\n",
            "1684  2015-02-16  BTCUSD    234.14  ...    236.78    45750.85  10798751.12\n",
            "1683  2015-02-17  BTCUSD    236.78  ...    242.87    42669.08  10228035.45\n",
            "1682  2015-02-18  BTCUSD    242.87  ...     234.8    38588.38   9164141.83\n",
            "1681  2015-02-19  BTCUSD     234.8  ...     241.9    22792.55   5446200.04\n",
            "1680  2015-02-20  BTCUSD     241.9  ...    245.53    33337.97   8136342.67\n",
            "1679  2015-02-21  BTCUSD    245.53  ...     245.1    16514.04   4052466.26\n",
            "1678  2015-02-22  BTCUSD     245.1  ...    236.59     33394.5   7971863.56\n",
            "1677  2015-02-23  BTCUSD    236.59  ...    239.73    23893.09   5666261.84\n",
            "1676  2015-02-24  BTCUSD    239.73  ...    239.68    16784.31   4013461.44\n",
            "1675  2015-02-25  BTCUSD    239.68  ...       238     13574.5   3230232.16\n",
            "1674  2015-02-26  BTCUSD       238  ...       237    18691.43   4418655.89\n",
            "1673  2015-02-27  BTCUSD       237  ...     256.4    69269.58  17536633.13\n",
            "1672  2015-02-28  BTCUSD    255.05  ...    255.77    10695.34   2721373.29\n",
            "1671  2015-03-01  BTCUSD     255.7  ...    261.15    24361.06   6156716.71\n",
            "1670  2015-03-02  BTCUSD    262.47  ...    275.99    35351.14   9448438.14\n",
            "1669  2015-03-03  BTCUSD     277.3  ...     283.2    75940.04  21157890.72\n",
            "1668  2015-03-04  BTCUSD     283.2  ...    273.74    71328.67  19833718.19\n",
            "1667  2015-03-05  BTCUSD    273.74  ...    278.51    67235.69  18281541.95\n",
            "1666  2015-03-06  BTCUSD    278.51  ...    273.89    40490.63  11083898.02\n",
            "1665  2015-03-07  BTCUSD    273.89  ...    275.95    22095.92    6096102.1\n",
            "1664  2015-03-08  BTCUSD    275.95  ...    275.23    14729.83   4059996.89\n",
            "1663  2015-03-09  BTCUSD    275.23  ...     291.2    62709.27  17935918.08\n",
            "1662  2015-03-10  BTCUSD     291.2  ...    292.62    66533.18   19689801.8\n",
            "...          ...     ...       ...  ...       ...         ...          ...\n",
            "29    2019-09-10  BTCUSD     10317  ...     10121     4211.66  42722054.03\n",
            "28    2019-09-11  BTCUSD     10121  ...     10175     4348.62  43782091.22\n",
            "27    2019-09-12  BTCUSD     10175  ...     10452     4401.51   45313964.9\n",
            "26    2019-09-13  BTCUSD     10452  ...     10374     4501.19  46417698.48\n",
            "25    2019-09-14  BTCUSD     10374  ...     10380     3155.79  32801466.46\n",
            "24    2019-09-15  BTCUSD     10380  ...  10321.42     1885.62  19486372.51\n",
            "23    2019-09-16  BTCUSD  10321.42  ...     10290     5515.26  56380470.07\n",
            "22    2019-09-17  BTCUSD     10290  ...  10214.86     2944.28  30156486.97\n",
            "21    2019-09-18  BTCUSD  10214.86  ...     10185     3339.09  34080717.87\n",
            "20    2019-09-19  BTCUSD     10185  ...     10301     9766.07  97965321.95\n",
            "19    2019-09-20  BTCUSD     10301  ...     10197      2513.7   25660191.4\n",
            "18    2019-09-21  BTCUSD     10197  ...     10013     2979.88  29943816.81\n",
            "17    2019-09-22  BTCUSD     10013  ...     10055     2752.45  27523592.55\n",
            "16    2019-09-23  BTCUSD     10055  ...    9702.6     5486.04  53969510.57\n",
            "15    2019-09-24  BTCUSD    9702.6  ...    8538.7     34867.7    307985234\n",
            "14    2019-09-25  BTCUSD    8538.7  ...    8475.3    12765.89  108207657.4\n",
            "13    2019-09-26  BTCUSD    8475.3  ...    8105.9    15408.93  125180468.7\n",
            "12    2019-09-27  BTCUSD    8105.9  ...    8213.4     7469.15  60208646.12\n",
            "11    2019-09-28  BTCUSD    8213.4  ...    8238.2     5447.13  44602497.95\n",
            "10    2019-09-29  BTCUSD    8238.2  ...      8090     6143.56  49454030.63\n",
            "9     2019-09-30  BTCUSD      8090  ...   8331.14    10919.75  87839295.32\n",
            "8     2019-10-01  BTCUSD   8331.14  ...    8334.9      5835.9  49049132.41\n",
            "7     2019-10-02  BTCUSD    8334.9  ...   8414.88     3448.52  28570950.97\n",
            "6     2019-10-03  BTCUSD   8414.88  ...      8258     3716.19  30623737.96\n",
            "5     2019-10-04  BTCUSD      8258  ...      8170     3051.67   24946287.9\n",
            "4     2019-10-05  BTCUSD      8170  ...    8162.5     3327.26  27021471.49\n",
            "3     2019-10-06  BTCUSD    8162.5  ...    7882.9     5857.54  46641948.11\n",
            "2     2019-10-07  BTCUSD    7882.9  ...      8227     8149.21  66182672.83\n",
            "1     2019-10-08  BTCUSD      8227  ...   8205.14     1584.55  13097499.82\n",
            "0           Date  Symbol      Open  ...     Close  Volume BTC   Volume USD\n",
            "\n",
            "[1692 rows x 8 columns]\n"
          ],
          "name": "stdout"
        }
      ]
    },
    {
      "cell_type": "code",
      "metadata": {
        "id": "72jdx_riocdK",
        "colab_type": "code",
        "colab": {}
      },
      "source": [
        "# Convert to tsv\n",
        "# https://pandas.pydata.org/pandas-docs/stable/reference/api/pandas.DataFrame.to_csv.html\n"
      ],
      "execution_count": 0,
      "outputs": []
    },
    {
      "cell_type": "code",
      "metadata": {
        "id": "42H0oe9OV-AB",
        "colab_type": "code",
        "colab": {}
      },
      "source": [
        "import coinbasepro as cbp"
      ],
      "execution_count": 0,
      "outputs": []
    },
    {
      "cell_type": "code",
      "metadata": {
        "id": "ZvK0ADmFWg2_",
        "colab_type": "code",
        "colab": {
          "base_uri": "https://localhost:8080/",
          "height": 136
        },
        "outputId": "f59c8daa-da3a-4b21-9b95-29c3a1d5595e"
      },
      "source": [
        "client = cbp.PublicClient()\n",
        "client.get_product_ticker('BTC-USD')\n"
      ],
      "execution_count": 9,
      "outputs": [
        {
          "output_type": "execute_result",
          "data": {
            "text/plain": [
              "{'ask': Decimal('8379.38'),\n",
              " 'bid': Decimal('8377.86'),\n",
              " 'price': Decimal('8379.38'),\n",
              " 'size': Decimal('0.00215099'),\n",
              " 'time': datetime.datetime(2019, 10, 12, 15, 39, 27, 114000),\n",
              " 'trade_id': 75871428,\n",
              " 'volume': Decimal('4682.36937636')}"
            ]
          },
          "metadata": {
            "tags": []
          },
          "execution_count": 9
        }
      ]
    },
    {
      "cell_type": "markdown",
      "metadata": {
        "id": "uiBcwaZAfvgq",
        "colab_type": "text"
      },
      "source": [
        "The granularity field must be one of the following values: {60, 300, 900, 3600, 21600, 86400}. Otherwise, your request will be rejected. These values correspond to timeslices representing one minute, five minutes, fifteen minutes, one hour, six hours, and one day, respectively."
      ]
    },
    {
      "cell_type": "code",
      "metadata": {
        "id": "NkemuNFdFZv7",
        "colab_type": "code",
        "colab": {
          "base_uri": "https://localhost:8080/",
          "height": 51
        },
        "outputId": "399d5268-3094-4d1a-c1bc-4355eb57e48c"
      },
      "source": [
        "next_coinbase_date_after_historic = '2019-10-09T00:00:00'\n",
        "d_iso_start = datetime.datetime(year = 2019, month = 10, day = 9).isoformat()\n",
        "d_iso_end = datetime.datetime.now().isoformat()\n",
        "\n",
        "print('ISO date start: ' + d_iso_start)\n",
        "print('ISO date end: ' + d_iso_end)"
      ],
      "execution_count": 10,
      "outputs": [
        {
          "output_type": "stream",
          "text": [
            "ISO date start: 2019-10-09T00:00:00\n",
            "ISO date end: 2019-10-12T15:39:41.921200\n"
          ],
          "name": "stdout"
        }
      ]
    },
    {
      "cell_type": "code",
      "metadata": {
        "id": "z9p6hbOKX7c6",
        "colab_type": "code",
        "colab": {
          "base_uri": "https://localhost:8080/",
          "height": 119
        },
        "outputId": "af3c649d-6dcd-4e65-b554-e6819055c922"
      },
      "source": [
        "\n",
        "client.get_product_trades('BTC-USD')\n",
        "client.get_product_24hr_stats('BTC-USD')\n",
        "#client.get_product_historic_rates('BTC-USD',start='2019-07-01T00:00:00',granularity=3600) # hourly bars\n",
        "\n",
        "historic_btcusd_json = client.get_product_historic_rates('BTC-USD',start=d_iso_start,stop=d_iso_end,granularity=86400) # daily bars\n",
        "df_coinbase_json = json_normalize(historic_btcusd_json)\n",
        "# https://stackoverflow.com/questions/24172896/pandas-to-csv-to-a-specific-format\n",
        "s = StringIO()\n",
        "df_coinbase_json.to_csv(s, quoting=2)  # or output to file instead\n",
        "print(s.getvalue)\n",
        "# Reverse order once it's in a dataframe\n",
        "df_coinbase_csv_reverse = df_coinbase_json.iloc[::-1]\n",
        "print(df_coinbase_csv_reverse)\n",
        "\n",
        "#print(df_coinbase_csv_reverse)\n",
        "## TODO . Put the coinbase df_coinbase_reverse and df_coinbase_csv_reverse in a single dataframe"
      ],
      "execution_count": 12,
      "outputs": [
        {
          "output_type": "stream",
          "text": [
            "<built-in method getvalue of _io.StringIO object at 0x7fe7b2c5f048>\n",
            "     close     high      low     open       time          volume\n",
            "3     8590  8712.45     8121     8180 2019-10-09   14459.7776891\n",
            "2   8587.5     8660   8452.5  8590.01 2019-10-10   7946.64222782\n",
            "1  8267.33     8826     8226  8587.49 2019-10-11  12446.84471206\n",
            "0     8375     8425  8261.46  8263.02 2019-10-12   1842.41603684\n"
          ],
          "name": "stdout"
        }
      ]
    }
  ]
}